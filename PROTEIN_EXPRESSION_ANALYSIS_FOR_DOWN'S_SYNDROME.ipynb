{
  "nbformat": 4,
  "nbformat_minor": 0,
  "metadata": {
    "colab": {
      "name": "PROTEIN EXPRESSION ANALYSIS FOR DOWN'S SYNDROME.ipynb",
      "provenance": [],
      "toc_visible": true,
      "authorship_tag": "ABX9TyMlvU/KawFfFXFff4jqHdMn",
      "include_colab_link": true
    },
    "kernelspec": {
      "name": "python3",
      "display_name": "Python 3"
    },
    "language_info": {
      "name": "python"
    }
  },
  "cells": [
    {
      "cell_type": "markdown",
      "metadata": {
        "id": "view-in-github",
        "colab_type": "text"
      },
      "source": [
        "<a href=\"https://colab.research.google.com/github/Preethi3101/PROTEIN-EXPRESSION-ANALYSIS-FOR-DOWN-SYNDROME_MINI-PROJECT/blob/main/PROTEIN_EXPRESSION_ANALYSIS_FOR_DOWN'S_SYNDROME.ipynb\" target=\"_parent\"><img src=\"https://colab.research.google.com/assets/colab-badge.svg\" alt=\"Open In Colab\"/></a>"
      ]
    },
    {
      "cell_type": "markdown",
      "metadata": {
        "id": "M0oUqIc65sKD"
      },
      "source": [
        "## **IMPORTING LIBRARIES AND LOADING DATASET**"
      ]
    },
    {
      "cell_type": "code",
      "metadata": {
        "id": "U-qUsTCz5QgJ"
      },
      "source": [
        "from sklearn import feature_selection\n",
        "import numpy as np \n",
        "import pandas as pd \n",
        "import seaborn as sns\n",
        "import matplotlib.pyplot as plt\n",
        "import sklearn as sk\n",
        "from sklearn.linear_model import LogisticRegression\n",
        "from sklearn.neighbors import KNeighborsClassifier\n",
        "from sklearn.ensemble import VotingClassifier\n",
        "from sklearn import model_selection\n",
        "from sklearn.metrics import confusion_matrix,classification_report,roc_curve,f1_score,roc_auc_score,auc\n",
        "from sklearn. preprocessing import StandardScaler\n",
        "from sklearn.model_selection import train_test_split\n",
        "from sklearn.model_selection import GridSearchCV\n",
        "from sklearn.feature_selection import SelectKBest,f_classif\n",
        "import seaborn as sns\n",
        "from scipy import interp\n",
        "from itertools import cycle\n",
        "\n",
        "mice=pd.read_csv(\"Data_Cortex_Nuclear.csv\")"
      ],
      "execution_count": null,
      "outputs": []
    },
    {
      "cell_type": "markdown",
      "metadata": {
        "id": "IbZ9Wsd855E2"
      },
      "source": [
        "**THE DATASET CONSISTS OF 1080 ROWS AND 82 COLUMNS **"
      ]
    },
    {
      "cell_type": "code",
      "metadata": {
        "colab": {
          "base_uri": "https://localhost:8080/"
        },
        "id": "yfjOL-VO555J",
        "outputId": "b14f91fd-45d0-45ed-8b8e-0669c7b411f3"
      },
      "source": [
        "mice.shape"
      ],
      "execution_count": null,
      "outputs": [
        {
          "output_type": "execute_result",
          "data": {
            "text/plain": [
              "(1080, 82)"
            ]
          },
          "metadata": {
            "tags": []
          },
          "execution_count": 2
        }
      ]
    },
    {
      "cell_type": "markdown",
      "metadata": {
        "id": "SKYGPpD06ePk"
      },
      "source": [
        "**OVERVIEW OF THE DATASET**"
      ]
    },
    {
      "cell_type": "code",
      "metadata": {
        "colab": {
          "base_uri": "https://localhost:8080/",
          "height": 560
        },
        "id": "CMvsIw246evC",
        "outputId": "a97f2706-d777-4b5f-ee97-5b05a674a352"
      },
      "source": [
        "mice.head(10)"
      ],
      "execution_count": null,
      "outputs": [
        {
          "output_type": "execute_result",
          "data": {
            "text/html": [
              "<div>\n",
              "<style scoped>\n",
              "    .dataframe tbody tr th:only-of-type {\n",
              "        vertical-align: middle;\n",
              "    }\n",
              "\n",
              "    .dataframe tbody tr th {\n",
              "        vertical-align: top;\n",
              "    }\n",
              "\n",
              "    .dataframe thead th {\n",
              "        text-align: right;\n",
              "    }\n",
              "</style>\n",
              "<table border=\"1\" class=\"dataframe\">\n",
              "  <thead>\n",
              "    <tr style=\"text-align: right;\">\n",
              "      <th></th>\n",
              "      <th>MouseID</th>\n",
              "      <th>DYRK1A_N</th>\n",
              "      <th>ITSN1_N</th>\n",
              "      <th>BDNF_N</th>\n",
              "      <th>NR1_N</th>\n",
              "      <th>NR2A_N</th>\n",
              "      <th>pAKT_N</th>\n",
              "      <th>pBRAF_N</th>\n",
              "      <th>pCAMKII_N</th>\n",
              "      <th>pCREB_N</th>\n",
              "      <th>pELK_N</th>\n",
              "      <th>pERK_N</th>\n",
              "      <th>pJNK_N</th>\n",
              "      <th>PKCA_N</th>\n",
              "      <th>pMEK_N</th>\n",
              "      <th>pNR1_N</th>\n",
              "      <th>pNR2A_N</th>\n",
              "      <th>pNR2B_N</th>\n",
              "      <th>pPKCAB_N</th>\n",
              "      <th>pRSK_N</th>\n",
              "      <th>AKT_N</th>\n",
              "      <th>BRAF_N</th>\n",
              "      <th>CAMKII_N</th>\n",
              "      <th>CREB_N</th>\n",
              "      <th>ELK_N</th>\n",
              "      <th>ERK_N</th>\n",
              "      <th>GSK3B_N</th>\n",
              "      <th>JNK_N</th>\n",
              "      <th>MEK_N</th>\n",
              "      <th>TRKA_N</th>\n",
              "      <th>RSK_N</th>\n",
              "      <th>APP_N</th>\n",
              "      <th>Bcatenin_N</th>\n",
              "      <th>SOD1_N</th>\n",
              "      <th>MTOR_N</th>\n",
              "      <th>P38_N</th>\n",
              "      <th>pMTOR_N</th>\n",
              "      <th>DSCR1_N</th>\n",
              "      <th>AMPKA_N</th>\n",
              "      <th>NR2B_N</th>\n",
              "      <th>...</th>\n",
              "      <th>TIAM1_N</th>\n",
              "      <th>pP70S6_N</th>\n",
              "      <th>NUMB_N</th>\n",
              "      <th>P70S6_N</th>\n",
              "      <th>pGSK3B_N</th>\n",
              "      <th>pPKCG_N</th>\n",
              "      <th>CDK5_N</th>\n",
              "      <th>S6_N</th>\n",
              "      <th>ADARB1_N</th>\n",
              "      <th>AcetylH3K9_N</th>\n",
              "      <th>RRP1_N</th>\n",
              "      <th>BAX_N</th>\n",
              "      <th>ARC_N</th>\n",
              "      <th>ERBB4_N</th>\n",
              "      <th>nNOS_N</th>\n",
              "      <th>Tau_N</th>\n",
              "      <th>GFAP_N</th>\n",
              "      <th>GluR3_N</th>\n",
              "      <th>GluR4_N</th>\n",
              "      <th>IL1B_N</th>\n",
              "      <th>P3525_N</th>\n",
              "      <th>pCASP9_N</th>\n",
              "      <th>PSD95_N</th>\n",
              "      <th>SNCA_N</th>\n",
              "      <th>Ubiquitin_N</th>\n",
              "      <th>pGSK3B_Tyr216_N</th>\n",
              "      <th>SHH_N</th>\n",
              "      <th>BAD_N</th>\n",
              "      <th>BCL2_N</th>\n",
              "      <th>pS6_N</th>\n",
              "      <th>pCFOS_N</th>\n",
              "      <th>SYP_N</th>\n",
              "      <th>H3AcK18_N</th>\n",
              "      <th>EGR1_N</th>\n",
              "      <th>H3MeK4_N</th>\n",
              "      <th>CaNA_N</th>\n",
              "      <th>Genotype</th>\n",
              "      <th>Treatment</th>\n",
              "      <th>Behavior</th>\n",
              "      <th>class</th>\n",
              "    </tr>\n",
              "  </thead>\n",
              "  <tbody>\n",
              "    <tr>\n",
              "      <th>0</th>\n",
              "      <td>309_1</td>\n",
              "      <td>0.503644</td>\n",
              "      <td>0.747193</td>\n",
              "      <td>0.430175</td>\n",
              "      <td>2.816329</td>\n",
              "      <td>5.990152</td>\n",
              "      <td>0.218830</td>\n",
              "      <td>0.177565</td>\n",
              "      <td>2.373744</td>\n",
              "      <td>0.232224</td>\n",
              "      <td>1.750936</td>\n",
              "      <td>0.687906</td>\n",
              "      <td>0.306382</td>\n",
              "      <td>0.402698</td>\n",
              "      <td>0.296927</td>\n",
              "      <td>1.022060</td>\n",
              "      <td>0.605673</td>\n",
              "      <td>1.877684</td>\n",
              "      <td>2.308745</td>\n",
              "      <td>0.441599</td>\n",
              "      <td>0.859366</td>\n",
              "      <td>0.416289</td>\n",
              "      <td>0.369608</td>\n",
              "      <td>0.178944</td>\n",
              "      <td>1.866358</td>\n",
              "      <td>3.685247</td>\n",
              "      <td>1.537227</td>\n",
              "      <td>0.264526</td>\n",
              "      <td>0.319677</td>\n",
              "      <td>0.813866</td>\n",
              "      <td>0.165846</td>\n",
              "      <td>0.453910</td>\n",
              "      <td>3.037621</td>\n",
              "      <td>0.369510</td>\n",
              "      <td>0.458539</td>\n",
              "      <td>0.335336</td>\n",
              "      <td>0.825192</td>\n",
              "      <td>0.576916</td>\n",
              "      <td>0.448099</td>\n",
              "      <td>0.586271</td>\n",
              "      <td>...</td>\n",
              "      <td>0.482864</td>\n",
              "      <td>0.294170</td>\n",
              "      <td>0.182150</td>\n",
              "      <td>0.842725</td>\n",
              "      <td>0.192608</td>\n",
              "      <td>1.443091</td>\n",
              "      <td>0.294700</td>\n",
              "      <td>0.354605</td>\n",
              "      <td>1.339070</td>\n",
              "      <td>0.170119</td>\n",
              "      <td>0.159102</td>\n",
              "      <td>0.188852</td>\n",
              "      <td>0.106305</td>\n",
              "      <td>0.144989</td>\n",
              "      <td>0.176668</td>\n",
              "      <td>0.125190</td>\n",
              "      <td>0.115291</td>\n",
              "      <td>0.228043</td>\n",
              "      <td>0.142756</td>\n",
              "      <td>0.430957</td>\n",
              "      <td>0.247538</td>\n",
              "      <td>1.603310</td>\n",
              "      <td>2.014875</td>\n",
              "      <td>0.108234</td>\n",
              "      <td>1.044979</td>\n",
              "      <td>0.831557</td>\n",
              "      <td>0.188852</td>\n",
              "      <td>0.122652</td>\n",
              "      <td>NaN</td>\n",
              "      <td>0.106305</td>\n",
              "      <td>0.108336</td>\n",
              "      <td>0.427099</td>\n",
              "      <td>0.114783</td>\n",
              "      <td>0.131790</td>\n",
              "      <td>0.128186</td>\n",
              "      <td>1.675652</td>\n",
              "      <td>Control</td>\n",
              "      <td>Memantine</td>\n",
              "      <td>C/S</td>\n",
              "      <td>c-CS-m</td>\n",
              "    </tr>\n",
              "    <tr>\n",
              "      <th>1</th>\n",
              "      <td>309_2</td>\n",
              "      <td>0.514617</td>\n",
              "      <td>0.689064</td>\n",
              "      <td>0.411770</td>\n",
              "      <td>2.789514</td>\n",
              "      <td>5.685038</td>\n",
              "      <td>0.211636</td>\n",
              "      <td>0.172817</td>\n",
              "      <td>2.292150</td>\n",
              "      <td>0.226972</td>\n",
              "      <td>1.596377</td>\n",
              "      <td>0.695006</td>\n",
              "      <td>0.299051</td>\n",
              "      <td>0.385987</td>\n",
              "      <td>0.281319</td>\n",
              "      <td>0.956676</td>\n",
              "      <td>0.587559</td>\n",
              "      <td>1.725774</td>\n",
              "      <td>2.043037</td>\n",
              "      <td>0.445222</td>\n",
              "      <td>0.834659</td>\n",
              "      <td>0.400364</td>\n",
              "      <td>0.356178</td>\n",
              "      <td>0.173680</td>\n",
              "      <td>1.761047</td>\n",
              "      <td>3.485287</td>\n",
              "      <td>1.509249</td>\n",
              "      <td>0.255727</td>\n",
              "      <td>0.304419</td>\n",
              "      <td>0.780504</td>\n",
              "      <td>0.157194</td>\n",
              "      <td>0.430940</td>\n",
              "      <td>2.921882</td>\n",
              "      <td>0.342279</td>\n",
              "      <td>0.423560</td>\n",
              "      <td>0.324835</td>\n",
              "      <td>0.761718</td>\n",
              "      <td>0.545097</td>\n",
              "      <td>0.420876</td>\n",
              "      <td>0.545097</td>\n",
              "      <td>...</td>\n",
              "      <td>0.454519</td>\n",
              "      <td>0.276431</td>\n",
              "      <td>0.182086</td>\n",
              "      <td>0.847615</td>\n",
              "      <td>0.194815</td>\n",
              "      <td>1.439460</td>\n",
              "      <td>0.294060</td>\n",
              "      <td>0.354548</td>\n",
              "      <td>1.306323</td>\n",
              "      <td>0.171427</td>\n",
              "      <td>0.158129</td>\n",
              "      <td>0.184570</td>\n",
              "      <td>0.106592</td>\n",
              "      <td>0.150471</td>\n",
              "      <td>0.178309</td>\n",
              "      <td>0.134275</td>\n",
              "      <td>0.118235</td>\n",
              "      <td>0.238073</td>\n",
              "      <td>0.142037</td>\n",
              "      <td>0.457156</td>\n",
              "      <td>0.257632</td>\n",
              "      <td>1.671738</td>\n",
              "      <td>2.004605</td>\n",
              "      <td>0.109749</td>\n",
              "      <td>1.009883</td>\n",
              "      <td>0.849270</td>\n",
              "      <td>0.200404</td>\n",
              "      <td>0.116682</td>\n",
              "      <td>NaN</td>\n",
              "      <td>0.106592</td>\n",
              "      <td>0.104315</td>\n",
              "      <td>0.441581</td>\n",
              "      <td>0.111974</td>\n",
              "      <td>0.135103</td>\n",
              "      <td>0.131119</td>\n",
              "      <td>1.743610</td>\n",
              "      <td>Control</td>\n",
              "      <td>Memantine</td>\n",
              "      <td>C/S</td>\n",
              "      <td>c-CS-m</td>\n",
              "    </tr>\n",
              "    <tr>\n",
              "      <th>2</th>\n",
              "      <td>309_3</td>\n",
              "      <td>0.509183</td>\n",
              "      <td>0.730247</td>\n",
              "      <td>0.418309</td>\n",
              "      <td>2.687201</td>\n",
              "      <td>5.622059</td>\n",
              "      <td>0.209011</td>\n",
              "      <td>0.175722</td>\n",
              "      <td>2.283337</td>\n",
              "      <td>0.230247</td>\n",
              "      <td>1.561316</td>\n",
              "      <td>0.677348</td>\n",
              "      <td>0.291276</td>\n",
              "      <td>0.381002</td>\n",
              "      <td>0.281710</td>\n",
              "      <td>1.003635</td>\n",
              "      <td>0.602449</td>\n",
              "      <td>1.731873</td>\n",
              "      <td>2.017984</td>\n",
              "      <td>0.467668</td>\n",
              "      <td>0.814329</td>\n",
              "      <td>0.399847</td>\n",
              "      <td>0.368089</td>\n",
              "      <td>0.173905</td>\n",
              "      <td>1.765544</td>\n",
              "      <td>3.571456</td>\n",
              "      <td>1.501244</td>\n",
              "      <td>0.259614</td>\n",
              "      <td>0.311747</td>\n",
              "      <td>0.785154</td>\n",
              "      <td>0.160895</td>\n",
              "      <td>0.423187</td>\n",
              "      <td>2.944136</td>\n",
              "      <td>0.343696</td>\n",
              "      <td>0.425005</td>\n",
              "      <td>0.324852</td>\n",
              "      <td>0.757031</td>\n",
              "      <td>0.543620</td>\n",
              "      <td>0.404630</td>\n",
              "      <td>0.552994</td>\n",
              "      <td>...</td>\n",
              "      <td>0.447197</td>\n",
              "      <td>0.256648</td>\n",
              "      <td>0.184388</td>\n",
              "      <td>0.856166</td>\n",
              "      <td>0.200737</td>\n",
              "      <td>1.524364</td>\n",
              "      <td>0.301881</td>\n",
              "      <td>0.386087</td>\n",
              "      <td>1.279600</td>\n",
              "      <td>0.185456</td>\n",
              "      <td>0.148696</td>\n",
              "      <td>0.190532</td>\n",
              "      <td>0.108303</td>\n",
              "      <td>0.145330</td>\n",
              "      <td>0.176213</td>\n",
              "      <td>0.132560</td>\n",
              "      <td>0.117760</td>\n",
              "      <td>0.244817</td>\n",
              "      <td>0.142445</td>\n",
              "      <td>0.510472</td>\n",
              "      <td>0.255343</td>\n",
              "      <td>1.663550</td>\n",
              "      <td>2.016831</td>\n",
              "      <td>0.108196</td>\n",
              "      <td>0.996848</td>\n",
              "      <td>0.846709</td>\n",
              "      <td>0.193685</td>\n",
              "      <td>0.118508</td>\n",
              "      <td>NaN</td>\n",
              "      <td>0.108303</td>\n",
              "      <td>0.106219</td>\n",
              "      <td>0.435777</td>\n",
              "      <td>0.111883</td>\n",
              "      <td>0.133362</td>\n",
              "      <td>0.127431</td>\n",
              "      <td>1.926427</td>\n",
              "      <td>Control</td>\n",
              "      <td>Memantine</td>\n",
              "      <td>C/S</td>\n",
              "      <td>c-CS-m</td>\n",
              "    </tr>\n",
              "    <tr>\n",
              "      <th>3</th>\n",
              "      <td>309_4</td>\n",
              "      <td>0.442107</td>\n",
              "      <td>0.617076</td>\n",
              "      <td>0.358626</td>\n",
              "      <td>2.466947</td>\n",
              "      <td>4.979503</td>\n",
              "      <td>0.222886</td>\n",
              "      <td>0.176463</td>\n",
              "      <td>2.152301</td>\n",
              "      <td>0.207004</td>\n",
              "      <td>1.595086</td>\n",
              "      <td>0.583277</td>\n",
              "      <td>0.296729</td>\n",
              "      <td>0.377087</td>\n",
              "      <td>0.313832</td>\n",
              "      <td>0.875390</td>\n",
              "      <td>0.520293</td>\n",
              "      <td>1.566852</td>\n",
              "      <td>2.132754</td>\n",
              "      <td>0.477671</td>\n",
              "      <td>0.727705</td>\n",
              "      <td>0.385639</td>\n",
              "      <td>0.362970</td>\n",
              "      <td>0.179449</td>\n",
              "      <td>1.286277</td>\n",
              "      <td>2.970137</td>\n",
              "      <td>1.419710</td>\n",
              "      <td>0.259536</td>\n",
              "      <td>0.279218</td>\n",
              "      <td>0.734492</td>\n",
              "      <td>0.162210</td>\n",
              "      <td>0.410615</td>\n",
              "      <td>2.500204</td>\n",
              "      <td>0.344509</td>\n",
              "      <td>0.429211</td>\n",
              "      <td>0.330121</td>\n",
              "      <td>0.746980</td>\n",
              "      <td>0.546763</td>\n",
              "      <td>0.386860</td>\n",
              "      <td>0.547849</td>\n",
              "      <td>...</td>\n",
              "      <td>0.442650</td>\n",
              "      <td>0.398534</td>\n",
              "      <td>0.161768</td>\n",
              "      <td>0.760234</td>\n",
              "      <td>0.184169</td>\n",
              "      <td>1.612382</td>\n",
              "      <td>0.296382</td>\n",
              "      <td>0.290680</td>\n",
              "      <td>1.198765</td>\n",
              "      <td>0.159799</td>\n",
              "      <td>0.166112</td>\n",
              "      <td>0.185323</td>\n",
              "      <td>0.103184</td>\n",
              "      <td>0.140656</td>\n",
              "      <td>0.163804</td>\n",
              "      <td>0.123210</td>\n",
              "      <td>0.117439</td>\n",
              "      <td>0.234947</td>\n",
              "      <td>0.145068</td>\n",
              "      <td>0.430996</td>\n",
              "      <td>0.251103</td>\n",
              "      <td>1.484624</td>\n",
              "      <td>1.957233</td>\n",
              "      <td>0.119883</td>\n",
              "      <td>0.990225</td>\n",
              "      <td>0.833277</td>\n",
              "      <td>0.192112</td>\n",
              "      <td>0.132781</td>\n",
              "      <td>NaN</td>\n",
              "      <td>0.103184</td>\n",
              "      <td>0.111262</td>\n",
              "      <td>0.391691</td>\n",
              "      <td>0.130405</td>\n",
              "      <td>0.147444</td>\n",
              "      <td>0.146901</td>\n",
              "      <td>1.700563</td>\n",
              "      <td>Control</td>\n",
              "      <td>Memantine</td>\n",
              "      <td>C/S</td>\n",
              "      <td>c-CS-m</td>\n",
              "    </tr>\n",
              "    <tr>\n",
              "      <th>4</th>\n",
              "      <td>309_5</td>\n",
              "      <td>0.434940</td>\n",
              "      <td>0.617430</td>\n",
              "      <td>0.358802</td>\n",
              "      <td>2.365785</td>\n",
              "      <td>4.718679</td>\n",
              "      <td>0.213106</td>\n",
              "      <td>0.173627</td>\n",
              "      <td>2.134014</td>\n",
              "      <td>0.192158</td>\n",
              "      <td>1.504230</td>\n",
              "      <td>0.550960</td>\n",
              "      <td>0.286961</td>\n",
              "      <td>0.363502</td>\n",
              "      <td>0.277964</td>\n",
              "      <td>0.864912</td>\n",
              "      <td>0.507990</td>\n",
              "      <td>1.480059</td>\n",
              "      <td>2.013697</td>\n",
              "      <td>0.483416</td>\n",
              "      <td>0.687794</td>\n",
              "      <td>0.367531</td>\n",
              "      <td>0.355311</td>\n",
              "      <td>0.174836</td>\n",
              "      <td>1.324695</td>\n",
              "      <td>2.896334</td>\n",
              "      <td>1.359876</td>\n",
              "      <td>0.250705</td>\n",
              "      <td>0.273667</td>\n",
              "      <td>0.702699</td>\n",
              "      <td>0.154827</td>\n",
              "      <td>0.398550</td>\n",
              "      <td>2.456560</td>\n",
              "      <td>0.329126</td>\n",
              "      <td>0.408755</td>\n",
              "      <td>0.313415</td>\n",
              "      <td>0.691956</td>\n",
              "      <td>0.536860</td>\n",
              "      <td>0.360816</td>\n",
              "      <td>0.512824</td>\n",
              "      <td>...</td>\n",
              "      <td>0.419095</td>\n",
              "      <td>0.393447</td>\n",
              "      <td>0.160200</td>\n",
              "      <td>0.768113</td>\n",
              "      <td>0.185718</td>\n",
              "      <td>1.645807</td>\n",
              "      <td>0.296829</td>\n",
              "      <td>0.309345</td>\n",
              "      <td>1.206995</td>\n",
              "      <td>0.164650</td>\n",
              "      <td>0.160687</td>\n",
              "      <td>0.188221</td>\n",
              "      <td>0.104784</td>\n",
              "      <td>0.141983</td>\n",
              "      <td>0.167710</td>\n",
              "      <td>0.136838</td>\n",
              "      <td>0.116048</td>\n",
              "      <td>0.255528</td>\n",
              "      <td>0.140871</td>\n",
              "      <td>0.481227</td>\n",
              "      <td>0.251773</td>\n",
              "      <td>1.534835</td>\n",
              "      <td>2.009109</td>\n",
              "      <td>0.119524</td>\n",
              "      <td>0.997775</td>\n",
              "      <td>0.878668</td>\n",
              "      <td>0.205604</td>\n",
              "      <td>0.129954</td>\n",
              "      <td>NaN</td>\n",
              "      <td>0.104784</td>\n",
              "      <td>0.110694</td>\n",
              "      <td>0.434154</td>\n",
              "      <td>0.118481</td>\n",
              "      <td>0.140314</td>\n",
              "      <td>0.148380</td>\n",
              "      <td>1.839730</td>\n",
              "      <td>Control</td>\n",
              "      <td>Memantine</td>\n",
              "      <td>C/S</td>\n",
              "      <td>c-CS-m</td>\n",
              "    </tr>\n",
              "    <tr>\n",
              "      <th>5</th>\n",
              "      <td>309_6</td>\n",
              "      <td>0.447506</td>\n",
              "      <td>0.628176</td>\n",
              "      <td>0.367388</td>\n",
              "      <td>2.385939</td>\n",
              "      <td>4.807635</td>\n",
              "      <td>0.218578</td>\n",
              "      <td>0.176233</td>\n",
              "      <td>2.141282</td>\n",
              "      <td>0.195188</td>\n",
              "      <td>1.442398</td>\n",
              "      <td>0.566340</td>\n",
              "      <td>0.289824</td>\n",
              "      <td>0.363893</td>\n",
              "      <td>0.266837</td>\n",
              "      <td>0.859121</td>\n",
              "      <td>0.521307</td>\n",
              "      <td>1.538244</td>\n",
              "      <td>1.968275</td>\n",
              "      <td>0.495900</td>\n",
              "      <td>0.672402</td>\n",
              "      <td>0.369404</td>\n",
              "      <td>0.357172</td>\n",
              "      <td>0.179728</td>\n",
              "      <td>1.227450</td>\n",
              "      <td>2.956983</td>\n",
              "      <td>1.447910</td>\n",
              "      <td>0.250840</td>\n",
              "      <td>0.284044</td>\n",
              "      <td>0.704396</td>\n",
              "      <td>0.156876</td>\n",
              "      <td>0.391047</td>\n",
              "      <td>2.467133</td>\n",
              "      <td>0.327598</td>\n",
              "      <td>0.404490</td>\n",
              "      <td>0.296276</td>\n",
              "      <td>0.674419</td>\n",
              "      <td>0.539723</td>\n",
              "      <td>0.354214</td>\n",
              "      <td>0.514316</td>\n",
              "      <td>...</td>\n",
              "      <td>0.412824</td>\n",
              "      <td>0.382578</td>\n",
              "      <td>0.162330</td>\n",
              "      <td>0.779695</td>\n",
              "      <td>0.186793</td>\n",
              "      <td>1.634615</td>\n",
              "      <td>0.288037</td>\n",
              "      <td>0.332367</td>\n",
              "      <td>1.123445</td>\n",
              "      <td>0.175693</td>\n",
              "      <td>0.150594</td>\n",
              "      <td>0.183824</td>\n",
              "      <td>0.106476</td>\n",
              "      <td>0.139564</td>\n",
              "      <td>0.174844</td>\n",
              "      <td>0.130515</td>\n",
              "      <td>0.115243</td>\n",
              "      <td>0.236850</td>\n",
              "      <td>0.136454</td>\n",
              "      <td>0.478577</td>\n",
              "      <td>0.244485</td>\n",
              "      <td>1.507777</td>\n",
              "      <td>2.003535</td>\n",
              "      <td>0.120687</td>\n",
              "      <td>0.920178</td>\n",
              "      <td>0.843679</td>\n",
              "      <td>0.190469</td>\n",
              "      <td>0.131575</td>\n",
              "      <td>NaN</td>\n",
              "      <td>0.106476</td>\n",
              "      <td>0.109446</td>\n",
              "      <td>0.439833</td>\n",
              "      <td>0.116657</td>\n",
              "      <td>0.140766</td>\n",
              "      <td>0.142180</td>\n",
              "      <td>1.816389</td>\n",
              "      <td>Control</td>\n",
              "      <td>Memantine</td>\n",
              "      <td>C/S</td>\n",
              "      <td>c-CS-m</td>\n",
              "    </tr>\n",
              "    <tr>\n",
              "      <th>6</th>\n",
              "      <td>309_7</td>\n",
              "      <td>0.428033</td>\n",
              "      <td>0.573696</td>\n",
              "      <td>0.342709</td>\n",
              "      <td>2.334224</td>\n",
              "      <td>4.473130</td>\n",
              "      <td>0.225173</td>\n",
              "      <td>0.184004</td>\n",
              "      <td>2.012414</td>\n",
              "      <td>0.195789</td>\n",
              "      <td>1.612036</td>\n",
              "      <td>0.509899</td>\n",
              "      <td>0.299654</td>\n",
              "      <td>0.371150</td>\n",
              "      <td>0.277656</td>\n",
              "      <td>0.844280</td>\n",
              "      <td>0.485387</td>\n",
              "      <td>1.494815</td>\n",
              "      <td>2.012571</td>\n",
              "      <td>0.497486</td>\n",
              "      <td>0.646135</td>\n",
              "      <td>0.395977</td>\n",
              "      <td>0.359522</td>\n",
              "      <td>0.186047</td>\n",
              "      <td>1.107794</td>\n",
              "      <td>2.599623</td>\n",
              "      <td>1.364236</td>\n",
              "      <td>0.261471</td>\n",
              "      <td>0.276241</td>\n",
              "      <td>0.693118</td>\n",
              "      <td>0.162162</td>\n",
              "      <td>0.405563</td>\n",
              "      <td>2.288812</td>\n",
              "      <td>0.345380</td>\n",
              "      <td>0.427561</td>\n",
              "      <td>0.333909</td>\n",
              "      <td>0.757542</td>\n",
              "      <td>0.558611</td>\n",
              "      <td>0.368950</td>\n",
              "      <td>0.544626</td>\n",
              "      <td>...</td>\n",
              "      <td>0.420490</td>\n",
              "      <td>0.465116</td>\n",
              "      <td>0.145566</td>\n",
              "      <td>0.702248</td>\n",
              "      <td>0.177033</td>\n",
              "      <td>1.773846</td>\n",
              "      <td>0.292195</td>\n",
              "      <td>0.266857</td>\n",
              "      <td>1.032284</td>\n",
              "      <td>0.147855</td>\n",
              "      <td>0.149816</td>\n",
              "      <td>0.181610</td>\n",
              "      <td>0.097834</td>\n",
              "      <td>0.142787</td>\n",
              "      <td>0.151859</td>\n",
              "      <td>0.115979</td>\n",
              "      <td>0.114753</td>\n",
              "      <td>0.224520</td>\n",
              "      <td>0.144830</td>\n",
              "      <td>0.415529</td>\n",
              "      <td>0.238006</td>\n",
              "      <td>1.338782</td>\n",
              "      <td>1.861708</td>\n",
              "      <td>0.117041</td>\n",
              "      <td>1.028770</td>\n",
              "      <td>0.798284</td>\n",
              "      <td>0.181610</td>\n",
              "      <td>0.141806</td>\n",
              "      <td>NaN</td>\n",
              "      <td>0.097834</td>\n",
              "      <td>0.111483</td>\n",
              "      <td>0.406293</td>\n",
              "      <td>0.137229</td>\n",
              "      <td>0.156682</td>\n",
              "      <td>0.157499</td>\n",
              "      <td>1.528484</td>\n",
              "      <td>Control</td>\n",
              "      <td>Memantine</td>\n",
              "      <td>C/S</td>\n",
              "      <td>c-CS-m</td>\n",
              "    </tr>\n",
              "    <tr>\n",
              "      <th>7</th>\n",
              "      <td>309_8</td>\n",
              "      <td>0.416923</td>\n",
              "      <td>0.564036</td>\n",
              "      <td>0.327703</td>\n",
              "      <td>2.260135</td>\n",
              "      <td>4.268735</td>\n",
              "      <td>0.214834</td>\n",
              "      <td>0.179668</td>\n",
              "      <td>2.007985</td>\n",
              "      <td>0.189803</td>\n",
              "      <td>1.424601</td>\n",
              "      <td>0.501075</td>\n",
              "      <td>0.283016</td>\n",
              "      <td>0.358876</td>\n",
              "      <td>0.256450</td>\n",
              "      <td>0.818643</td>\n",
              "      <td>0.478501</td>\n",
              "      <td>1.409398</td>\n",
              "      <td>1.857033</td>\n",
              "      <td>0.489558</td>\n",
              "      <td>0.628071</td>\n",
              "      <td>0.360719</td>\n",
              "      <td>0.360719</td>\n",
              "      <td>0.171837</td>\n",
              "      <td>1.077396</td>\n",
              "      <td>2.550215</td>\n",
              "      <td>1.316646</td>\n",
              "      <td>0.250614</td>\n",
              "      <td>0.265356</td>\n",
              "      <td>0.676597</td>\n",
              "      <td>0.159552</td>\n",
              "      <td>0.375461</td>\n",
              "      <td>2.281173</td>\n",
              "      <td>0.328163</td>\n",
              "      <td>0.407248</td>\n",
              "      <td>0.322789</td>\n",
              "      <td>0.695178</td>\n",
              "      <td>0.525031</td>\n",
              "      <td>0.340141</td>\n",
              "      <td>0.509828</td>\n",
              "      <td>...</td>\n",
              "      <td>0.392967</td>\n",
              "      <td>0.440418</td>\n",
              "      <td>0.147848</td>\n",
              "      <td>0.681941</td>\n",
              "      <td>0.174599</td>\n",
              "      <td>1.795781</td>\n",
              "      <td>0.288523</td>\n",
              "      <td>0.288608</td>\n",
              "      <td>1.152068</td>\n",
              "      <td>0.152405</td>\n",
              "      <td>0.154515</td>\n",
              "      <td>0.182869</td>\n",
              "      <td>0.099494</td>\n",
              "      <td>0.140169</td>\n",
              "      <td>0.158734</td>\n",
              "      <td>0.119578</td>\n",
              "      <td>0.116203</td>\n",
              "      <td>0.246835</td>\n",
              "      <td>0.134430</td>\n",
              "      <td>0.451139</td>\n",
              "      <td>0.241435</td>\n",
              "      <td>1.386076</td>\n",
              "      <td>1.969451</td>\n",
              "      <td>0.116878</td>\n",
              "      <td>0.943544</td>\n",
              "      <td>0.843966</td>\n",
              "      <td>0.191561</td>\n",
              "      <td>0.141013</td>\n",
              "      <td>NaN</td>\n",
              "      <td>0.099494</td>\n",
              "      <td>0.113080</td>\n",
              "      <td>0.382532</td>\n",
              "      <td>0.123376</td>\n",
              "      <td>0.155612</td>\n",
              "      <td>0.159409</td>\n",
              "      <td>1.652658</td>\n",
              "      <td>Control</td>\n",
              "      <td>Memantine</td>\n",
              "      <td>C/S</td>\n",
              "      <td>c-CS-m</td>\n",
              "    </tr>\n",
              "    <tr>\n",
              "      <th>8</th>\n",
              "      <td>309_9</td>\n",
              "      <td>0.386311</td>\n",
              "      <td>0.538428</td>\n",
              "      <td>0.317720</td>\n",
              "      <td>2.125725</td>\n",
              "      <td>4.063950</td>\n",
              "      <td>0.207222</td>\n",
              "      <td>0.167778</td>\n",
              "      <td>1.861514</td>\n",
              "      <td>0.180684</td>\n",
              "      <td>1.261891</td>\n",
              "      <td>0.476653</td>\n",
              "      <td>0.266966</td>\n",
              "      <td>0.337007</td>\n",
              "      <td>0.242604</td>\n",
              "      <td>0.748260</td>\n",
              "      <td>0.458962</td>\n",
              "      <td>1.341792</td>\n",
              "      <td>1.822071</td>\n",
              "      <td>0.464472</td>\n",
              "      <td>0.600638</td>\n",
              "      <td>0.326566</td>\n",
              "      <td>0.328886</td>\n",
              "      <td>0.170389</td>\n",
              "      <td>1.008846</td>\n",
              "      <td>2.434600</td>\n",
              "      <td>1.252030</td>\n",
              "      <td>0.230423</td>\n",
              "      <td>0.252610</td>\n",
              "      <td>0.635586</td>\n",
              "      <td>0.154147</td>\n",
              "      <td>0.351218</td>\n",
              "      <td>2.139211</td>\n",
              "      <td>0.309165</td>\n",
              "      <td>0.378480</td>\n",
              "      <td>0.294519</td>\n",
              "      <td>0.636891</td>\n",
              "      <td>0.484919</td>\n",
              "      <td>0.323376</td>\n",
              "      <td>0.479988</td>\n",
              "      <td>...</td>\n",
              "      <td>0.357599</td>\n",
              "      <td>0.421694</td>\n",
              "      <td>0.150121</td>\n",
              "      <td>0.710808</td>\n",
              "      <td>0.167472</td>\n",
              "      <td>1.805249</td>\n",
              "      <td>0.294458</td>\n",
              "      <td>0.294113</td>\n",
              "      <td>1.107907</td>\n",
              "      <td>0.158840</td>\n",
              "      <td>0.148653</td>\n",
              "      <td>0.178522</td>\n",
              "      <td>0.105145</td>\n",
              "      <td>0.137776</td>\n",
              "      <td>0.160394</td>\n",
              "      <td>0.123964</td>\n",
              "      <td>0.116799</td>\n",
              "      <td>0.233857</td>\n",
              "      <td>0.132597</td>\n",
              "      <td>0.455974</td>\n",
              "      <td>0.236015</td>\n",
              "      <td>1.404178</td>\n",
              "      <td>1.958736</td>\n",
              "      <td>0.113864</td>\n",
              "      <td>0.946910</td>\n",
              "      <td>0.832182</td>\n",
              "      <td>0.186378</td>\n",
              "      <td>0.139589</td>\n",
              "      <td>NaN</td>\n",
              "      <td>0.105145</td>\n",
              "      <td>0.105490</td>\n",
              "      <td>0.435687</td>\n",
              "      <td>0.125173</td>\n",
              "      <td>0.152711</td>\n",
              "      <td>0.158235</td>\n",
              "      <td>1.834599</td>\n",
              "      <td>Control</td>\n",
              "      <td>Memantine</td>\n",
              "      <td>C/S</td>\n",
              "      <td>c-CS-m</td>\n",
              "    </tr>\n",
              "    <tr>\n",
              "      <th>9</th>\n",
              "      <td>309_10</td>\n",
              "      <td>0.380827</td>\n",
              "      <td>0.499294</td>\n",
              "      <td>0.362462</td>\n",
              "      <td>2.096266</td>\n",
              "      <td>3.598587</td>\n",
              "      <td>0.227649</td>\n",
              "      <td>0.188093</td>\n",
              "      <td>1.717861</td>\n",
              "      <td>0.188093</td>\n",
              "      <td>1.414329</td>\n",
              "      <td>0.455499</td>\n",
              "      <td>0.324117</td>\n",
              "      <td>0.368315</td>\n",
              "      <td>0.283754</td>\n",
              "      <td>0.743491</td>\n",
              "      <td>0.444198</td>\n",
              "      <td>1.355399</td>\n",
              "      <td>1.783249</td>\n",
              "      <td>0.493037</td>\n",
              "      <td>0.570535</td>\n",
              "      <td>0.335419</td>\n",
              "      <td>0.392129</td>\n",
              "      <td>0.198385</td>\n",
              "      <td>0.906155</td>\n",
              "      <td>2.169929</td>\n",
              "      <td>1.248234</td>\n",
              "      <td>0.257719</td>\n",
              "      <td>0.301514</td>\n",
              "      <td>0.636731</td>\n",
              "      <td>0.174369</td>\n",
              "      <td>0.380424</td>\n",
              "      <td>1.922906</td>\n",
              "      <td>0.373966</td>\n",
              "      <td>0.433502</td>\n",
              "      <td>0.394349</td>\n",
              "      <td>0.742079</td>\n",
              "      <td>0.553179</td>\n",
              "      <td>0.357215</td>\n",
              "      <td>0.530979</td>\n",
              "      <td>...</td>\n",
              "      <td>0.426034</td>\n",
              "      <td>0.505752</td>\n",
              "      <td>0.140063</td>\n",
              "      <td>0.637927</td>\n",
              "      <td>0.175585</td>\n",
              "      <td>1.926596</td>\n",
              "      <td>0.301821</td>\n",
              "      <td>0.249775</td>\n",
              "      <td>0.930980</td>\n",
              "      <td>0.145459</td>\n",
              "      <td>0.166254</td>\n",
              "      <td>0.171088</td>\n",
              "      <td>0.093300</td>\n",
              "      <td>0.124438</td>\n",
              "      <td>0.150629</td>\n",
              "      <td>0.117581</td>\n",
              "      <td>0.126574</td>\n",
              "      <td>0.224146</td>\n",
              "      <td>0.148156</td>\n",
              "      <td>0.410971</td>\n",
              "      <td>0.244829</td>\n",
              "      <td>1.288669</td>\n",
              "      <td>1.818907</td>\n",
              "      <td>0.139951</td>\n",
              "      <td>0.970324</td>\n",
              "      <td>0.803395</td>\n",
              "      <td>0.189523</td>\n",
              "      <td>0.183678</td>\n",
              "      <td>NaN</td>\n",
              "      <td>0.093300</td>\n",
              "      <td>0.116906</td>\n",
              "      <td>0.414793</td>\n",
              "      <td>0.146133</td>\n",
              "      <td>0.188849</td>\n",
              "      <td>0.192334</td>\n",
              "      <td>1.516862</td>\n",
              "      <td>Control</td>\n",
              "      <td>Memantine</td>\n",
              "      <td>C/S</td>\n",
              "      <td>c-CS-m</td>\n",
              "    </tr>\n",
              "  </tbody>\n",
              "</table>\n",
              "<p>10 rows × 82 columns</p>\n",
              "</div>"
            ],
            "text/plain": [
              "  MouseID  DYRK1A_N   ITSN1_N    BDNF_N  ...  Genotype  Treatment  Behavior   class\n",
              "0   309_1  0.503644  0.747193  0.430175  ...   Control  Memantine       C/S  c-CS-m\n",
              "1   309_2  0.514617  0.689064  0.411770  ...   Control  Memantine       C/S  c-CS-m\n",
              "2   309_3  0.509183  0.730247  0.418309  ...   Control  Memantine       C/S  c-CS-m\n",
              "3   309_4  0.442107  0.617076  0.358626  ...   Control  Memantine       C/S  c-CS-m\n",
              "4   309_5  0.434940  0.617430  0.358802  ...   Control  Memantine       C/S  c-CS-m\n",
              "5   309_6  0.447506  0.628176  0.367388  ...   Control  Memantine       C/S  c-CS-m\n",
              "6   309_7  0.428033  0.573696  0.342709  ...   Control  Memantine       C/S  c-CS-m\n",
              "7   309_8  0.416923  0.564036  0.327703  ...   Control  Memantine       C/S  c-CS-m\n",
              "8   309_9  0.386311  0.538428  0.317720  ...   Control  Memantine       C/S  c-CS-m\n",
              "9  309_10  0.380827  0.499294  0.362462  ...   Control  Memantine       C/S  c-CS-m\n",
              "\n",
              "[10 rows x 82 columns]"
            ]
          },
          "metadata": {
            "tags": []
          },
          "execution_count": 3
        }
      ]
    },
    {
      "cell_type": "markdown",
      "metadata": {
        "id": "eCujx-Nn7GRP"
      },
      "source": [
        "**VISUALIZING NULL VALUES IN THE DATASET**"
      ]
    },
    {
      "cell_type": "code",
      "metadata": {
        "colab": {
          "base_uri": "https://localhost:8080/",
          "height": 333
        },
        "id": "oI1LDC2i7Fxc",
        "outputId": "c8e53657-af6f-405b-a1a9-2c87fd2fcd59"
      },
      "source": [
        "sns.heatmap(mice.isnull())"
      ],
      "execution_count": null,
      "outputs": [
        {
          "output_type": "execute_result",
          "data": {
            "text/plain": [
              "<matplotlib.axes._subplots.AxesSubplot at 0x7fe24f2c3850>"
            ]
          },
          "metadata": {
            "tags": []
          },
          "execution_count": 23
        },
        {
          "output_type": "display_data",
          "data": {
            "image/png": "[encoded data removed]",
            "text/plain": [
              "<Figure size 432x288 with 2 Axes>"
            ]
          },
          "metadata": {
            "tags": [],
            "needs_background": "light"
          }
        }
      ]
    },
    {
      "cell_type": "markdown",
      "metadata": {
        "id": "DHj7iQgc7Ffv"
      },
      "source": [
        "**CHECKING FOR NULL VALUES AND FILLING THEM WITH THE MEAN VALUES **"
      ]
    },
    {
      "cell_type": "code",
      "metadata": {
        "colab": {
          "base_uri": "https://localhost:8080/"
        },
        "id": "XMZk-upQ7jjW",
        "outputId": "56608674-83f3-4c6d-88c4-7af857f2f22c"
      },
      "source": [
        "mice.isnull().sum(axis=1)"
      ],
      "execution_count": null,
      "outputs": [
        {
          "output_type": "execute_result",
          "data": {
            "text/plain": [
              "0       1\n",
              "1       1\n",
              "2       1\n",
              "3       1\n",
              "4       1\n",
              "       ..\n",
              "1075    1\n",
              "1076    1\n",
              "1077    1\n",
              "1078    1\n",
              "1079    1\n",
              "Length: 1080, dtype: int64"
            ]
          },
          "metadata": {
            "tags": []
          },
          "execution_count": 4
        }
      ]
    },
    {
      "cell_type": "code",
      "metadata": {
        "colab": {
          "base_uri": "https://localhost:8080/"
        },
        "id": "Ibx4gKbK70mB",
        "outputId": "c7bb5e23-d381-49de-93f8-97dd14ff0728"
      },
      "source": [
        "nmice = mice.fillna(mice.mean())\n",
        "\n",
        "nmice.isnull().sum()"
      ],
      "execution_count": null,
      "outputs": [
        {
          "output_type": "execute_result",
          "data": {
            "text/plain": [
              "MouseID      0\n",
              "DYRK1A_N     0\n",
              "ITSN1_N      0\n",
              "BDNF_N       0\n",
              "NR1_N        0\n",
              "            ..\n",
              "CaNA_N       0\n",
              "Genotype     0\n",
              "Treatment    0\n",
              "Behavior     0\n",
              "class        0\n",
              "Length: 82, dtype: int64"
            ]
          },
          "metadata": {
            "tags": []
          },
          "execution_count": 5
        }
      ]
    },
    {
      "cell_type": "markdown",
      "metadata": {
        "id": "KM6-C23s8Etw"
      },
      "source": [
        "**IDENTIFYING CATEGORICAL AND NUMERICAL ATTRIBUTES**"
      ]
    },
    {
      "cell_type": "code",
      "metadata": {
        "colab": {
          "base_uri": "https://localhost:8080/"
        },
        "id": "JyX7aIua8H6y",
        "outputId": "ed89054f-c63b-4aa5-b3b1-1fefdaea4b8a"
      },
      "source": [
        "def value_type(mice):\n",
        "  categorical=[]\n",
        "  numerical=[]\n",
        "  for i in mice.columns:\n",
        "    if mice[i].dtype == 'object':\n",
        "      categorical.append(i)\n",
        "    else:\n",
        "      numerical.append(i)\n",
        "  return categorical,numerical\n",
        "\n",
        "category,numerical=value_type(mice)\n",
        "print('columns with categorical values:',category)\n",
        "print('columns with numerical values:\\n',numerical)"
      ],
      "execution_count": null,
      "outputs": [
        {
          "output_type": "stream",
          "text": [
            "columns with categorical values: ['MouseID', 'Genotype', 'Treatment', 'Behavior', 'class']\n",
            "columns with numerical values:\n",
            " ['DYRK1A_N', 'ITSN1_N', 'BDNF_N', 'NR1_N', 'NR2A_N', 'pAKT_N', 'pBRAF_N', 'pCAMKII_N', 'pCREB_N', 'pELK_N', 'pERK_N', 'pJNK_N', 'PKCA_N', 'pMEK_N', 'pNR1_N', 'pNR2A_N', 'pNR2B_N', 'pPKCAB_N', 'pRSK_N', 'AKT_N', 'BRAF_N', 'CAMKII_N', 'CREB_N', 'ELK_N', 'ERK_N', 'GSK3B_N', 'JNK_N', 'MEK_N', 'TRKA_N', 'RSK_N', 'APP_N', 'Bcatenin_N', 'SOD1_N', 'MTOR_N', 'P38_N', 'pMTOR_N', 'DSCR1_N', 'AMPKA_N', 'NR2B_N', 'pNUMB_N', 'RAPTOR_N', 'TIAM1_N', 'pP70S6_N', 'NUMB_N', 'P70S6_N', 'pGSK3B_N', 'pPKCG_N', 'CDK5_N', 'S6_N', 'ADARB1_N', 'AcetylH3K9_N', 'RRP1_N', 'BAX_N', 'ARC_N', 'ERBB4_N', 'nNOS_N', 'Tau_N', 'GFAP_N', 'GluR3_N', 'GluR4_N', 'IL1B_N', 'P3525_N', 'pCASP9_N', 'PSD95_N', 'SNCA_N', 'Ubiquitin_N', 'pGSK3B_Tyr216_N', 'SHH_N', 'BAD_N', 'BCL2_N', 'pS6_N', 'pCFOS_N', 'SYP_N', 'H3AcK18_N', 'EGR1_N', 'H3MeK4_N', 'CaNA_N']\n"
          ],
          "name": "stdout"
        }
      ]
    },
    {
      "cell_type": "markdown",
      "metadata": {
        "id": "PvTJppyE8b1H"
      },
      "source": [
        "**IDENTIFICATION OF VALUES IN THE CATEGORICAL COLUMNS**"
      ]
    },
    {
      "cell_type": "markdown",
      "metadata": {
        "id": "CIl1eaRE9TPi"
      },
      "source": [
        "**CONTROL--NORMAL MICE**\n",
        "\n",
        "**TS65DN--TRISOMIC OR DOWN SYNDROME AFFECTED MICE **\n",
        "\n",
        "\n"
      ]
    },
    {
      "cell_type": "code",
      "metadata": {
        "colab": {
          "base_uri": "https://localhost:8080/"
        },
        "id": "RgZ3FQ2q8VvF",
        "outputId": "75ff34f0-2e80-4c8a-bc0b-860685eff49c"
      },
      "source": [
        "print('values in Genotype column:',mice['Genotype'].nunique())\n",
        "print('values:',mice['Genotype'].unique())"
      ],
      "execution_count": null,
      "outputs": [
        {
          "output_type": "stream",
          "text": [
            "values in Genotype column: 2\n",
            "values: ['Control' 'Ts65Dn']\n"
          ],
          "name": "stdout"
        }
      ]
    },
    {
      "cell_type": "markdown",
      "metadata": {
        "id": "_FrjVe7B95Gm"
      },
      "source": [
        "**MEMANTINE--MICE INJECTED WITH THE DRUG MEMANTINE**\n",
        "\n",
        "**SALINE--MICE INJECTED WITH SALINE WATER **"
      ]
    },
    {
      "cell_type": "code",
      "metadata": {
        "colab": {
          "base_uri": "https://localhost:8080/"
        },
        "id": "Qmo9bYuo8fq1",
        "outputId": "55c3066d-480e-4a94-d504-249dd14b3ebd"
      },
      "source": [
        "print('values in Treatment column:',mice['Treatment'].nunique())\n",
        "print('values:',mice['Treatment'].unique())"
      ],
      "execution_count": null,
      "outputs": [
        {
          "output_type": "stream",
          "text": [
            "values in Treatment column: 2\n",
            "values: ['Memantine' 'Saline']\n"
          ],
          "name": "stdout"
        }
      ]
    },
    {
      "cell_type": "markdown",
      "metadata": {
        "id": "NzwELayN-LWu"
      },
      "source": [
        "**C/S--SIMULATED TO CONTEXT SHOCK**\n",
        "\n",
        "**S/C--SIMULATED TO SHOCK CONTEXT **"
      ]
    },
    {
      "cell_type": "code",
      "metadata": {
        "colab": {
          "base_uri": "https://localhost:8080/"
        },
        "id": "Mani6ii48iYm",
        "outputId": "63c49e7e-de9b-4966-c878-4f1c924c5043"
      },
      "source": [
        "print('values in Behavior column:',mice['Behavior'].nunique())\n",
        "print('values:',mice['Behavior'].unique())"
      ],
      "execution_count": null,
      "outputs": [
        {
          "output_type": "stream",
          "text": [
            "values in Behavior column: 2\n",
            "values: ['C/S' 'S/C']\n"
          ],
          "name": "stdout"
        }
      ]
    },
    {
      "cell_type": "markdown",
      "metadata": {
        "id": "rHIbxLts-cJP"
      },
      "source": [
        "C-CS-M-->CONTROL-CONTEXTSHOCK-MEMANTINE\n",
        "\n",
        "C-SC-M-->CONTROL-SHOCKCONTEXT-MEMANTINE\n",
        "\n",
        "C-CS-S-->CONTROL-CONTEXTSHOCK-SALINE\n",
        "\n",
        "C-SC-S-->CONTROL-SHOCKCONTEXT-SALINE\n",
        "\n",
        "T-CS-M-->TRISOMIC-CONTROLSHOCK-MEMANTINE\n",
        "\n",
        "T-SC-M-->TRISOMIC-SHOCKCONTEXT-MEMANTINE\n",
        "\n",
        "T-CS-S-->TRISOMIC-CONTROLSHOCK-SALINE\n",
        "\n",
        "T-SC-S-->TRISOMIC-SHOCKCONTEXT-SALINE"
      ]
    },
    {
      "cell_type": "code",
      "metadata": {
        "colab": {
          "base_uri": "https://localhost:8080/"
        },
        "id": "CCfvqvbN8_xa",
        "outputId": "e4e65ffd-90fa-4a38-cdfd-13534f632aec"
      },
      "source": [
        "print('values in class column:',mice['class'].nunique())\n",
        "print('values:',mice['class'].unique())"
      ],
      "execution_count": null,
      "outputs": [
        {
          "output_type": "stream",
          "text": [
            "values in class column: 8\n",
            "values: ['c-CS-m' 'c-SC-m' 'c-CS-s' 'c-SC-s' 't-CS-m' 't-SC-m' 't-CS-s' 't-SC-s']\n"
          ],
          "name": "stdout"
        }
      ]
    },
    {
      "cell_type": "markdown",
      "metadata": {
        "id": "DPySnu5WurzV"
      },
      "source": [
        "**ENCODING CATEGORICAL ATTRIBUTES TO NUMERICAL**"
      ]
    },
    {
      "cell_type": "code",
      "metadata": {
        "colab": {
          "base_uri": "https://localhost:8080/",
          "height": 590
        },
        "id": "3QaGoGVz8S4Y",
        "outputId": "f36fc0a0-0c13-4a8c-fec8-587bb52eb5ce"
      },
      "source": [
        "from sklearn import preprocessing\n",
        "val=preprocessing.LabelEncoder()\n",
        "nmice['Genotype']= val.fit_transform(nmice['Genotype'])\n",
        "nmice['Treatment']= val.fit_transform(nmice['Treatment'])\n",
        "nmice['Behavior']= val.fit_transform(nmice['Behavior'])\n",
        "nmice"
      ],
      "execution_count": null,
      "outputs": [
        {
          "output_type": "execute_result",
          "data": {
            "text/html": [
              "<div>\n",
              "<style scoped>\n",
              "    .dataframe tbody tr th:only-of-type {\n",
              "        vertical-align: middle;\n",
              "    }\n",
              "\n",
              "    .dataframe tbody tr th {\n",
              "        vertical-align: top;\n",
              "    }\n",
              "\n",
              "    .dataframe thead th {\n",
              "        text-align: right;\n",
              "    }\n",
              "</style>\n",
              "<table border=\"1\" class=\"dataframe\">\n",
              "  <thead>\n",
              "    <tr style=\"text-align: right;\">\n",
              "      <th></th>\n",
              "      <th>MouseID</th>\n",
              "      <th>DYRK1A_N</th>\n",
              "      <th>ITSN1_N</th>\n",
              "      <th>BDNF_N</th>\n",
              "      <th>NR1_N</th>\n",
              "      <th>NR2A_N</th>\n",
              "      <th>pAKT_N</th>\n",
              "      <th>pBRAF_N</th>\n",
              "      <th>pCAMKII_N</th>\n",
              "      <th>pCREB_N</th>\n",
              "      <th>pELK_N</th>\n",
              "      <th>pERK_N</th>\n",
              "      <th>pJNK_N</th>\n",
              "      <th>PKCA_N</th>\n",
              "      <th>pMEK_N</th>\n",
              "      <th>pNR1_N</th>\n",
              "      <th>pNR2A_N</th>\n",
              "      <th>pNR2B_N</th>\n",
              "      <th>pPKCAB_N</th>\n",
              "      <th>pRSK_N</th>\n",
              "      <th>AKT_N</th>\n",
              "      <th>BRAF_N</th>\n",
              "      <th>CAMKII_N</th>\n",
              "      <th>CREB_N</th>\n",
              "      <th>ELK_N</th>\n",
              "      <th>ERK_N</th>\n",
              "      <th>GSK3B_N</th>\n",
              "      <th>JNK_N</th>\n",
              "      <th>MEK_N</th>\n",
              "      <th>TRKA_N</th>\n",
              "      <th>RSK_N</th>\n",
              "      <th>APP_N</th>\n",
              "      <th>Bcatenin_N</th>\n",
              "      <th>SOD1_N</th>\n",
              "      <th>MTOR_N</th>\n",
              "      <th>P38_N</th>\n",
              "      <th>pMTOR_N</th>\n",
              "      <th>DSCR1_N</th>\n",
              "      <th>AMPKA_N</th>\n",
              "      <th>NR2B_N</th>\n",
              "      <th>...</th>\n",
              "      <th>TIAM1_N</th>\n",
              "      <th>pP70S6_N</th>\n",
              "      <th>NUMB_N</th>\n",
              "      <th>P70S6_N</th>\n",
              "      <th>pGSK3B_N</th>\n",
              "      <th>pPKCG_N</th>\n",
              "      <th>CDK5_N</th>\n",
              "      <th>S6_N</th>\n",
              "      <th>ADARB1_N</th>\n",
              "      <th>AcetylH3K9_N</th>\n",
              "      <th>RRP1_N</th>\n",
              "      <th>BAX_N</th>\n",
              "      <th>ARC_N</th>\n",
              "      <th>ERBB4_N</th>\n",
              "      <th>nNOS_N</th>\n",
              "      <th>Tau_N</th>\n",
              "      <th>GFAP_N</th>\n",
              "      <th>GluR3_N</th>\n",
              "      <th>GluR4_N</th>\n",
              "      <th>IL1B_N</th>\n",
              "      <th>P3525_N</th>\n",
              "      <th>pCASP9_N</th>\n",
              "      <th>PSD95_N</th>\n",
              "      <th>SNCA_N</th>\n",
              "      <th>Ubiquitin_N</th>\n",
              "      <th>pGSK3B_Tyr216_N</th>\n",
              "      <th>SHH_N</th>\n",
              "      <th>BAD_N</th>\n",
              "      <th>BCL2_N</th>\n",
              "      <th>pS6_N</th>\n",
              "      <th>pCFOS_N</th>\n",
              "      <th>SYP_N</th>\n",
              "      <th>H3AcK18_N</th>\n",
              "      <th>EGR1_N</th>\n",
              "      <th>H3MeK4_N</th>\n",
              "      <th>CaNA_N</th>\n",
              "      <th>Genotype</th>\n",
              "      <th>Treatment</th>\n",
              "      <th>Behavior</th>\n",
              "      <th>class</th>\n",
              "    </tr>\n",
              "  </thead>\n",
              "  <tbody>\n",
              "    <tr>\n",
              "      <th>0</th>\n",
              "      <td>309_1</td>\n",
              "      <td>0.503644</td>\n",
              "      <td>0.747193</td>\n",
              "      <td>0.430175</td>\n",
              "      <td>2.816329</td>\n",
              "      <td>5.990152</td>\n",
              "      <td>0.218830</td>\n",
              "      <td>0.177565</td>\n",
              "      <td>2.373744</td>\n",
              "      <td>0.232224</td>\n",
              "      <td>1.750936</td>\n",
              "      <td>0.687906</td>\n",
              "      <td>0.306382</td>\n",
              "      <td>0.402698</td>\n",
              "      <td>0.296927</td>\n",
              "      <td>1.022060</td>\n",
              "      <td>0.605673</td>\n",
              "      <td>1.877684</td>\n",
              "      <td>2.308745</td>\n",
              "      <td>0.441599</td>\n",
              "      <td>0.859366</td>\n",
              "      <td>0.416289</td>\n",
              "      <td>0.369608</td>\n",
              "      <td>0.178944</td>\n",
              "      <td>1.866358</td>\n",
              "      <td>3.685247</td>\n",
              "      <td>1.537227</td>\n",
              "      <td>0.264526</td>\n",
              "      <td>0.319677</td>\n",
              "      <td>0.813866</td>\n",
              "      <td>0.165846</td>\n",
              "      <td>0.453910</td>\n",
              "      <td>3.037621</td>\n",
              "      <td>0.369510</td>\n",
              "      <td>0.458539</td>\n",
              "      <td>0.335336</td>\n",
              "      <td>0.825192</td>\n",
              "      <td>0.576916</td>\n",
              "      <td>0.448099</td>\n",
              "      <td>0.586271</td>\n",
              "      <td>...</td>\n",
              "      <td>0.482864</td>\n",
              "      <td>0.294170</td>\n",
              "      <td>0.182150</td>\n",
              "      <td>0.842725</td>\n",
              "      <td>0.192608</td>\n",
              "      <td>1.443091</td>\n",
              "      <td>0.294700</td>\n",
              "      <td>0.354605</td>\n",
              "      <td>1.339070</td>\n",
              "      <td>0.170119</td>\n",
              "      <td>0.159102</td>\n",
              "      <td>0.188852</td>\n",
              "      <td>0.106305</td>\n",
              "      <td>0.144989</td>\n",
              "      <td>0.176668</td>\n",
              "      <td>0.125190</td>\n",
              "      <td>0.115291</td>\n",
              "      <td>0.228043</td>\n",
              "      <td>0.142756</td>\n",
              "      <td>0.430957</td>\n",
              "      <td>0.247538</td>\n",
              "      <td>1.603310</td>\n",
              "      <td>2.014875</td>\n",
              "      <td>0.108234</td>\n",
              "      <td>1.044979</td>\n",
              "      <td>0.831557</td>\n",
              "      <td>0.188852</td>\n",
              "      <td>0.122652</td>\n",
              "      <td>0.134762</td>\n",
              "      <td>0.106305</td>\n",
              "      <td>0.108336</td>\n",
              "      <td>0.427099</td>\n",
              "      <td>0.114783</td>\n",
              "      <td>0.131790</td>\n",
              "      <td>0.128186</td>\n",
              "      <td>1.675652</td>\n",
              "      <td>0</td>\n",
              "      <td>0</td>\n",
              "      <td>0</td>\n",
              "      <td>c-CS-m</td>\n",
              "    </tr>\n",
              "    <tr>\n",
              "      <th>1</th>\n",
              "      <td>309_2</td>\n",
              "      <td>0.514617</td>\n",
              "      <td>0.689064</td>\n",
              "      <td>0.411770</td>\n",
              "      <td>2.789514</td>\n",
              "      <td>5.685038</td>\n",
              "      <td>0.211636</td>\n",
              "      <td>0.172817</td>\n",
              "      <td>2.292150</td>\n",
              "      <td>0.226972</td>\n",
              "      <td>1.596377</td>\n",
              "      <td>0.695006</td>\n",
              "      <td>0.299051</td>\n",
              "      <td>0.385987</td>\n",
              "      <td>0.281319</td>\n",
              "      <td>0.956676</td>\n",
              "      <td>0.587559</td>\n",
              "      <td>1.725774</td>\n",
              "      <td>2.043037</td>\n",
              "      <td>0.445222</td>\n",
              "      <td>0.834659</td>\n",
              "      <td>0.400364</td>\n",
              "      <td>0.356178</td>\n",
              "      <td>0.173680</td>\n",
              "      <td>1.761047</td>\n",
              "      <td>3.485287</td>\n",
              "      <td>1.509249</td>\n",
              "      <td>0.255727</td>\n",
              "      <td>0.304419</td>\n",
              "      <td>0.780504</td>\n",
              "      <td>0.157194</td>\n",
              "      <td>0.430940</td>\n",
              "      <td>2.921882</td>\n",
              "      <td>0.342279</td>\n",
              "      <td>0.423560</td>\n",
              "      <td>0.324835</td>\n",
              "      <td>0.761718</td>\n",
              "      <td>0.545097</td>\n",
              "      <td>0.420876</td>\n",
              "      <td>0.545097</td>\n",
              "      <td>...</td>\n",
              "      <td>0.454519</td>\n",
              "      <td>0.276431</td>\n",
              "      <td>0.182086</td>\n",
              "      <td>0.847615</td>\n",
              "      <td>0.194815</td>\n",
              "      <td>1.439460</td>\n",
              "      <td>0.294060</td>\n",
              "      <td>0.354548</td>\n",
              "      <td>1.306323</td>\n",
              "      <td>0.171427</td>\n",
              "      <td>0.158129</td>\n",
              "      <td>0.184570</td>\n",
              "      <td>0.106592</td>\n",
              "      <td>0.150471</td>\n",
              "      <td>0.178309</td>\n",
              "      <td>0.134275</td>\n",
              "      <td>0.118235</td>\n",
              "      <td>0.238073</td>\n",
              "      <td>0.142037</td>\n",
              "      <td>0.457156</td>\n",
              "      <td>0.257632</td>\n",
              "      <td>1.671738</td>\n",
              "      <td>2.004605</td>\n",
              "      <td>0.109749</td>\n",
              "      <td>1.009883</td>\n",
              "      <td>0.849270</td>\n",
              "      <td>0.200404</td>\n",
              "      <td>0.116682</td>\n",
              "      <td>0.134762</td>\n",
              "      <td>0.106592</td>\n",
              "      <td>0.104315</td>\n",
              "      <td>0.441581</td>\n",
              "      <td>0.111974</td>\n",
              "      <td>0.135103</td>\n",
              "      <td>0.131119</td>\n",
              "      <td>1.743610</td>\n",
              "      <td>0</td>\n",
              "      <td>0</td>\n",
              "      <td>0</td>\n",
              "      <td>c-CS-m</td>\n",
              "    </tr>\n",
              "    <tr>\n",
              "      <th>2</th>\n",
              "      <td>309_3</td>\n",
              "      <td>0.509183</td>\n",
              "      <td>0.730247</td>\n",
              "      <td>0.418309</td>\n",
              "      <td>2.687201</td>\n",
              "      <td>5.622059</td>\n",
              "      <td>0.209011</td>\n",
              "      <td>0.175722</td>\n",
              "      <td>2.283337</td>\n",
              "      <td>0.230247</td>\n",
              "      <td>1.561316</td>\n",
              "      <td>0.677348</td>\n",
              "      <td>0.291276</td>\n",
              "      <td>0.381002</td>\n",
              "      <td>0.281710</td>\n",
              "      <td>1.003635</td>\n",
              "      <td>0.602449</td>\n",
              "      <td>1.731873</td>\n",
              "      <td>2.017984</td>\n",
              "      <td>0.467668</td>\n",
              "      <td>0.814329</td>\n",
              "      <td>0.399847</td>\n",
              "      <td>0.368089</td>\n",
              "      <td>0.173905</td>\n",
              "      <td>1.765544</td>\n",
              "      <td>3.571456</td>\n",
              "      <td>1.501244</td>\n",
              "      <td>0.259614</td>\n",
              "      <td>0.311747</td>\n",
              "      <td>0.785154</td>\n",
              "      <td>0.160895</td>\n",
              "      <td>0.423187</td>\n",
              "      <td>2.944136</td>\n",
              "      <td>0.343696</td>\n",
              "      <td>0.425005</td>\n",
              "      <td>0.324852</td>\n",
              "      <td>0.757031</td>\n",
              "      <td>0.543620</td>\n",
              "      <td>0.404630</td>\n",
              "      <td>0.552994</td>\n",
              "      <td>...</td>\n",
              "      <td>0.447197</td>\n",
              "      <td>0.256648</td>\n",
              "      <td>0.184388</td>\n",
              "      <td>0.856166</td>\n",
              "      <td>0.200737</td>\n",
              "      <td>1.524364</td>\n",
              "      <td>0.301881</td>\n",
              "      <td>0.386087</td>\n",
              "      <td>1.279600</td>\n",
              "      <td>0.185456</td>\n",
              "      <td>0.148696</td>\n",
              "      <td>0.190532</td>\n",
              "      <td>0.108303</td>\n",
              "      <td>0.145330</td>\n",
              "      <td>0.176213</td>\n",
              "      <td>0.132560</td>\n",
              "      <td>0.117760</td>\n",
              "      <td>0.244817</td>\n",
              "      <td>0.142445</td>\n",
              "      <td>0.510472</td>\n",
              "      <td>0.255343</td>\n",
              "      <td>1.663550</td>\n",
              "      <td>2.016831</td>\n",
              "      <td>0.108196</td>\n",
              "      <td>0.996848</td>\n",
              "      <td>0.846709</td>\n",
              "      <td>0.193685</td>\n",
              "      <td>0.118508</td>\n",
              "      <td>0.134762</td>\n",
              "      <td>0.108303</td>\n",
              "      <td>0.106219</td>\n",
              "      <td>0.435777</td>\n",
              "      <td>0.111883</td>\n",
              "      <td>0.133362</td>\n",
              "      <td>0.127431</td>\n",
              "      <td>1.926427</td>\n",
              "      <td>0</td>\n",
              "      <td>0</td>\n",
              "      <td>0</td>\n",
              "      <td>c-CS-m</td>\n",
              "    </tr>\n",
              "    <tr>\n",
              "      <th>3</th>\n",
              "      <td>309_4</td>\n",
              "      <td>0.442107</td>\n",
              "      <td>0.617076</td>\n",
              "      <td>0.358626</td>\n",
              "      <td>2.466947</td>\n",
              "      <td>4.979503</td>\n",
              "      <td>0.222886</td>\n",
              "      <td>0.176463</td>\n",
              "      <td>2.152301</td>\n",
              "      <td>0.207004</td>\n",
              "      <td>1.595086</td>\n",
              "      <td>0.583277</td>\n",
              "      <td>0.296729</td>\n",
              "      <td>0.377087</td>\n",
              "      <td>0.313832</td>\n",
              "      <td>0.875390</td>\n",
              "      <td>0.520293</td>\n",
              "      <td>1.566852</td>\n",
              "      <td>2.132754</td>\n",
              "      <td>0.477671</td>\n",
              "      <td>0.727705</td>\n",
              "      <td>0.385639</td>\n",
              "      <td>0.362970</td>\n",
              "      <td>0.179449</td>\n",
              "      <td>1.286277</td>\n",
              "      <td>2.970137</td>\n",
              "      <td>1.419710</td>\n",
              "      <td>0.259536</td>\n",
              "      <td>0.279218</td>\n",
              "      <td>0.734492</td>\n",
              "      <td>0.162210</td>\n",
              "      <td>0.410615</td>\n",
              "      <td>2.500204</td>\n",
              "      <td>0.344509</td>\n",
              "      <td>0.429211</td>\n",
              "      <td>0.330121</td>\n",
              "      <td>0.746980</td>\n",
              "      <td>0.546763</td>\n",
              "      <td>0.386860</td>\n",
              "      <td>0.547849</td>\n",
              "      <td>...</td>\n",
              "      <td>0.442650</td>\n",
              "      <td>0.398534</td>\n",
              "      <td>0.161768</td>\n",
              "      <td>0.760234</td>\n",
              "      <td>0.184169</td>\n",
              "      <td>1.612382</td>\n",
              "      <td>0.296382</td>\n",
              "      <td>0.290680</td>\n",
              "      <td>1.198765</td>\n",
              "      <td>0.159799</td>\n",
              "      <td>0.166112</td>\n",
              "      <td>0.185323</td>\n",
              "      <td>0.103184</td>\n",
              "      <td>0.140656</td>\n",
              "      <td>0.163804</td>\n",
              "      <td>0.123210</td>\n",
              "      <td>0.117439</td>\n",
              "      <td>0.234947</td>\n",
              "      <td>0.145068</td>\n",
              "      <td>0.430996</td>\n",
              "      <td>0.251103</td>\n",
              "      <td>1.484624</td>\n",
              "      <td>1.957233</td>\n",
              "      <td>0.119883</td>\n",
              "      <td>0.990225</td>\n",
              "      <td>0.833277</td>\n",
              "      <td>0.192112</td>\n",
              "      <td>0.132781</td>\n",
              "      <td>0.134762</td>\n",
              "      <td>0.103184</td>\n",
              "      <td>0.111262</td>\n",
              "      <td>0.391691</td>\n",
              "      <td>0.130405</td>\n",
              "      <td>0.147444</td>\n",
              "      <td>0.146901</td>\n",
              "      <td>1.700563</td>\n",
              "      <td>0</td>\n",
              "      <td>0</td>\n",
              "      <td>0</td>\n",
              "      <td>c-CS-m</td>\n",
              "    </tr>\n",
              "    <tr>\n",
              "      <th>4</th>\n",
              "      <td>309_5</td>\n",
              "      <td>0.434940</td>\n",
              "      <td>0.617430</td>\n",
              "      <td>0.358802</td>\n",
              "      <td>2.365785</td>\n",
              "      <td>4.718679</td>\n",
              "      <td>0.213106</td>\n",
              "      <td>0.173627</td>\n",
              "      <td>2.134014</td>\n",
              "      <td>0.192158</td>\n",
              "      <td>1.504230</td>\n",
              "      <td>0.550960</td>\n",
              "      <td>0.286961</td>\n",
              "      <td>0.363502</td>\n",
              "      <td>0.277964</td>\n",
              "      <td>0.864912</td>\n",
              "      <td>0.507990</td>\n",
              "      <td>1.480059</td>\n",
              "      <td>2.013697</td>\n",
              "      <td>0.483416</td>\n",
              "      <td>0.687794</td>\n",
              "      <td>0.367531</td>\n",
              "      <td>0.355311</td>\n",
              "      <td>0.174836</td>\n",
              "      <td>1.324695</td>\n",
              "      <td>2.896334</td>\n",
              "      <td>1.359876</td>\n",
              "      <td>0.250705</td>\n",
              "      <td>0.273667</td>\n",
              "      <td>0.702699</td>\n",
              "      <td>0.154827</td>\n",
              "      <td>0.398550</td>\n",
              "      <td>2.456560</td>\n",
              "      <td>0.329126</td>\n",
              "      <td>0.408755</td>\n",
              "      <td>0.313415</td>\n",
              "      <td>0.691956</td>\n",
              "      <td>0.536860</td>\n",
              "      <td>0.360816</td>\n",
              "      <td>0.512824</td>\n",
              "      <td>...</td>\n",
              "      <td>0.419095</td>\n",
              "      <td>0.393447</td>\n",
              "      <td>0.160200</td>\n",
              "      <td>0.768113</td>\n",
              "      <td>0.185718</td>\n",
              "      <td>1.645807</td>\n",
              "      <td>0.296829</td>\n",
              "      <td>0.309345</td>\n",
              "      <td>1.206995</td>\n",
              "      <td>0.164650</td>\n",
              "      <td>0.160687</td>\n",
              "      <td>0.188221</td>\n",
              "      <td>0.104784</td>\n",
              "      <td>0.141983</td>\n",
              "      <td>0.167710</td>\n",
              "      <td>0.136838</td>\n",
              "      <td>0.116048</td>\n",
              "      <td>0.255528</td>\n",
              "      <td>0.140871</td>\n",
              "      <td>0.481227</td>\n",
              "      <td>0.251773</td>\n",
              "      <td>1.534835</td>\n",
              "      <td>2.009109</td>\n",
              "      <td>0.119524</td>\n",
              "      <td>0.997775</td>\n",
              "      <td>0.878668</td>\n",
              "      <td>0.205604</td>\n",
              "      <td>0.129954</td>\n",
              "      <td>0.134762</td>\n",
              "      <td>0.104784</td>\n",
              "      <td>0.110694</td>\n",
              "      <td>0.434154</td>\n",
              "      <td>0.118481</td>\n",
              "      <td>0.140314</td>\n",
              "      <td>0.148380</td>\n",
              "      <td>1.839730</td>\n",
              "      <td>0</td>\n",
              "      <td>0</td>\n",
              "      <td>0</td>\n",
              "      <td>c-CS-m</td>\n",
              "    </tr>\n",
              "    <tr>\n",
              "      <th>...</th>\n",
              "      <td>...</td>\n",
              "      <td>...</td>\n",
              "      <td>...</td>\n",
              "      <td>...</td>\n",
              "      <td>...</td>\n",
              "      <td>...</td>\n",
              "      <td>...</td>\n",
              "      <td>...</td>\n",
              "      <td>...</td>\n",
              "      <td>...</td>\n",
              "      <td>...</td>\n",
              "      <td>...</td>\n",
              "      <td>...</td>\n",
              "      <td>...</td>\n",
              "      <td>...</td>\n",
              "      <td>...</td>\n",
              "      <td>...</td>\n",
              "      <td>...</td>\n",
              "      <td>...</td>\n",
              "      <td>...</td>\n",
              "      <td>...</td>\n",
              "      <td>...</td>\n",
              "      <td>...</td>\n",
              "      <td>...</td>\n",
              "      <td>...</td>\n",
              "      <td>...</td>\n",
              "      <td>...</td>\n",
              "      <td>...</td>\n",
              "      <td>...</td>\n",
              "      <td>...</td>\n",
              "      <td>...</td>\n",
              "      <td>...</td>\n",
              "      <td>...</td>\n",
              "      <td>...</td>\n",
              "      <td>...</td>\n",
              "      <td>...</td>\n",
              "      <td>...</td>\n",
              "      <td>...</td>\n",
              "      <td>...</td>\n",
              "      <td>...</td>\n",
              "      <td>...</td>\n",
              "      <td>...</td>\n",
              "      <td>...</td>\n",
              "      <td>...</td>\n",
              "      <td>...</td>\n",
              "      <td>...</td>\n",
              "      <td>...</td>\n",
              "      <td>...</td>\n",
              "      <td>...</td>\n",
              "      <td>...</td>\n",
              "      <td>...</td>\n",
              "      <td>...</td>\n",
              "      <td>...</td>\n",
              "      <td>...</td>\n",
              "      <td>...</td>\n",
              "      <td>...</td>\n",
              "      <td>...</td>\n",
              "      <td>...</td>\n",
              "      <td>...</td>\n",
              "      <td>...</td>\n",
              "      <td>...</td>\n",
              "      <td>...</td>\n",
              "      <td>...</td>\n",
              "      <td>...</td>\n",
              "      <td>...</td>\n",
              "      <td>...</td>\n",
              "      <td>...</td>\n",
              "      <td>...</td>\n",
              "      <td>...</td>\n",
              "      <td>...</td>\n",
              "      <td>...</td>\n",
              "      <td>...</td>\n",
              "      <td>...</td>\n",
              "      <td>...</td>\n",
              "      <td>...</td>\n",
              "      <td>...</td>\n",
              "      <td>...</td>\n",
              "      <td>...</td>\n",
              "      <td>...</td>\n",
              "      <td>...</td>\n",
              "      <td>...</td>\n",
              "    </tr>\n",
              "    <tr>\n",
              "      <th>1075</th>\n",
              "      <td>J3295_11</td>\n",
              "      <td>0.254860</td>\n",
              "      <td>0.463591</td>\n",
              "      <td>0.254860</td>\n",
              "      <td>2.092082</td>\n",
              "      <td>2.600035</td>\n",
              "      <td>0.211736</td>\n",
              "      <td>0.171262</td>\n",
              "      <td>2.483740</td>\n",
              "      <td>0.207317</td>\n",
              "      <td>1.057971</td>\n",
              "      <td>0.265642</td>\n",
              "      <td>0.294097</td>\n",
              "      <td>0.249912</td>\n",
              "      <td>0.261223</td>\n",
              "      <td>0.746200</td>\n",
              "      <td>0.510604</td>\n",
              "      <td>1.220926</td>\n",
              "      <td>1.241958</td>\n",
              "      <td>0.422764</td>\n",
              "      <td>0.638211</td>\n",
              "      <td>0.255744</td>\n",
              "      <td>0.330859</td>\n",
              "      <td>0.190173</td>\n",
              "      <td>0.896430</td>\n",
              "      <td>1.822906</td>\n",
              "      <td>0.993107</td>\n",
              "      <td>0.236303</td>\n",
              "      <td>0.249205</td>\n",
              "      <td>0.641746</td>\n",
              "      <td>0.165606</td>\n",
              "      <td>0.372216</td>\n",
              "      <td>1.828208</td>\n",
              "      <td>0.820078</td>\n",
              "      <td>0.380170</td>\n",
              "      <td>0.320431</td>\n",
              "      <td>0.599328</td>\n",
              "      <td>0.508130</td>\n",
              "      <td>0.270060</td>\n",
              "      <td>0.437964</td>\n",
              "      <td>...</td>\n",
              "      <td>0.340756</td>\n",
              "      <td>0.527041</td>\n",
              "      <td>0.209433</td>\n",
              "      <td>0.787900</td>\n",
              "      <td>0.178130</td>\n",
              "      <td>2.630825</td>\n",
              "      <td>0.319062</td>\n",
              "      <td>0.654548</td>\n",
              "      <td>0.737226</td>\n",
              "      <td>0.532987</td>\n",
              "      <td>0.196659</td>\n",
              "      <td>0.182762</td>\n",
              "      <td>0.115806</td>\n",
              "      <td>0.160303</td>\n",
              "      <td>0.189360</td>\n",
              "      <td>0.411286</td>\n",
              "      <td>0.134896</td>\n",
              "      <td>0.207748</td>\n",
              "      <td>0.134475</td>\n",
              "      <td>0.503650</td>\n",
              "      <td>0.326362</td>\n",
              "      <td>1.323554</td>\n",
              "      <td>2.578046</td>\n",
              "      <td>0.167181</td>\n",
              "      <td>1.261651</td>\n",
              "      <td>0.962942</td>\n",
              "      <td>0.275547</td>\n",
              "      <td>0.190483</td>\n",
              "      <td>0.134762</td>\n",
              "      <td>0.115806</td>\n",
              "      <td>0.183324</td>\n",
              "      <td>0.374088</td>\n",
              "      <td>0.318782</td>\n",
              "      <td>0.204660</td>\n",
              "      <td>0.328327</td>\n",
              "      <td>1.364823</td>\n",
              "      <td>1</td>\n",
              "      <td>1</td>\n",
              "      <td>1</td>\n",
              "      <td>t-SC-s</td>\n",
              "    </tr>\n",
              "    <tr>\n",
              "      <th>1076</th>\n",
              "      <td>J3295_12</td>\n",
              "      <td>0.272198</td>\n",
              "      <td>0.474163</td>\n",
              "      <td>0.251638</td>\n",
              "      <td>2.161390</td>\n",
              "      <td>2.801492</td>\n",
              "      <td>0.251274</td>\n",
              "      <td>0.182496</td>\n",
              "      <td>2.512737</td>\n",
              "      <td>0.216339</td>\n",
              "      <td>1.081150</td>\n",
              "      <td>0.270378</td>\n",
              "      <td>0.285116</td>\n",
              "      <td>0.249818</td>\n",
              "      <td>0.252547</td>\n",
              "      <td>0.749818</td>\n",
              "      <td>0.524381</td>\n",
              "      <td>1.218705</td>\n",
              "      <td>1.361354</td>\n",
              "      <td>0.415211</td>\n",
              "      <td>0.645197</td>\n",
              "      <td>0.252001</td>\n",
              "      <td>0.338610</td>\n",
              "      <td>0.181223</td>\n",
              "      <td>0.958879</td>\n",
              "      <td>1.879913</td>\n",
              "      <td>0.974891</td>\n",
              "      <td>0.245451</td>\n",
              "      <td>0.262191</td>\n",
              "      <td>0.693595</td>\n",
              "      <td>0.191594</td>\n",
              "      <td>0.360990</td>\n",
              "      <td>1.883370</td>\n",
              "      <td>0.854258</td>\n",
              "      <td>0.380277</td>\n",
              "      <td>0.338246</td>\n",
              "      <td>0.614629</td>\n",
              "      <td>0.519105</td>\n",
              "      <td>0.273472</td>\n",
              "      <td>0.580058</td>\n",
              "      <td>...</td>\n",
              "      <td>0.346252</td>\n",
              "      <td>0.518377</td>\n",
              "      <td>0.194333</td>\n",
              "      <td>0.763096</td>\n",
              "      <td>0.170422</td>\n",
              "      <td>2.593227</td>\n",
              "      <td>0.318867</td>\n",
              "      <td>0.632066</td>\n",
              "      <td>0.756047</td>\n",
              "      <td>0.546648</td>\n",
              "      <td>0.188390</td>\n",
              "      <td>0.166966</td>\n",
              "      <td>0.113614</td>\n",
              "      <td>0.161576</td>\n",
              "      <td>0.187146</td>\n",
              "      <td>0.402073</td>\n",
              "      <td>0.130615</td>\n",
              "      <td>0.205114</td>\n",
              "      <td>0.122184</td>\n",
              "      <td>0.512647</td>\n",
              "      <td>0.344160</td>\n",
              "      <td>1.275605</td>\n",
              "      <td>2.534347</td>\n",
              "      <td>0.169592</td>\n",
              "      <td>1.254872</td>\n",
              "      <td>0.983690</td>\n",
              "      <td>0.283207</td>\n",
              "      <td>0.190463</td>\n",
              "      <td>0.134762</td>\n",
              "      <td>0.113614</td>\n",
              "      <td>0.175674</td>\n",
              "      <td>0.375259</td>\n",
              "      <td>0.325639</td>\n",
              "      <td>0.200415</td>\n",
              "      <td>0.293435</td>\n",
              "      <td>1.364478</td>\n",
              "      <td>1</td>\n",
              "      <td>1</td>\n",
              "      <td>1</td>\n",
              "      <td>t-SC-s</td>\n",
              "    </tr>\n",
              "    <tr>\n",
              "      <th>1077</th>\n",
              "      <td>J3295_13</td>\n",
              "      <td>0.228700</td>\n",
              "      <td>0.395179</td>\n",
              "      <td>0.234118</td>\n",
              "      <td>1.733184</td>\n",
              "      <td>2.220852</td>\n",
              "      <td>0.220665</td>\n",
              "      <td>0.161435</td>\n",
              "      <td>1.989723</td>\n",
              "      <td>0.185164</td>\n",
              "      <td>0.884342</td>\n",
              "      <td>0.255045</td>\n",
              "      <td>0.245703</td>\n",
              "      <td>0.221413</td>\n",
              "      <td>0.255792</td>\n",
              "      <td>0.636024</td>\n",
              "      <td>0.442638</td>\n",
              "      <td>1.015695</td>\n",
              "      <td>1.065022</td>\n",
              "      <td>0.408259</td>\n",
              "      <td>0.540172</td>\n",
              "      <td>0.238042</td>\n",
              "      <td>0.326981</td>\n",
              "      <td>0.212631</td>\n",
              "      <td>0.762892</td>\n",
              "      <td>1.425262</td>\n",
              "      <td>0.818199</td>\n",
              "      <td>0.216741</td>\n",
              "      <td>0.235426</td>\n",
              "      <td>0.559043</td>\n",
              "      <td>0.168161</td>\n",
              "      <td>0.309978</td>\n",
              "      <td>1.494208</td>\n",
              "      <td>0.661809</td>\n",
              "      <td>0.337444</td>\n",
              "      <td>0.309978</td>\n",
              "      <td>0.510650</td>\n",
              "      <td>0.463378</td>\n",
              "      <td>0.234679</td>\n",
              "      <td>0.400037</td>\n",
              "      <td>...</td>\n",
              "      <td>0.292788</td>\n",
              "      <td>0.460202</td>\n",
              "      <td>0.196736</td>\n",
              "      <td>0.804896</td>\n",
              "      <td>0.170807</td>\n",
              "      <td>2.628286</td>\n",
              "      <td>0.313327</td>\n",
              "      <td>0.669810</td>\n",
              "      <td>0.764098</td>\n",
              "      <td>0.536899</td>\n",
              "      <td>0.201269</td>\n",
              "      <td>0.169175</td>\n",
              "      <td>0.118948</td>\n",
              "      <td>0.174252</td>\n",
              "      <td>0.185131</td>\n",
              "      <td>0.395648</td>\n",
              "      <td>0.137081</td>\n",
              "      <td>0.201088</td>\n",
              "      <td>0.126927</td>\n",
              "      <td>0.631188</td>\n",
              "      <td>0.358114</td>\n",
              "      <td>1.437534</td>\n",
              "      <td>2.544515</td>\n",
              "      <td>0.179692</td>\n",
              "      <td>1.242248</td>\n",
              "      <td>0.976609</td>\n",
              "      <td>0.290843</td>\n",
              "      <td>0.216682</td>\n",
              "      <td>0.134762</td>\n",
              "      <td>0.118948</td>\n",
              "      <td>0.158296</td>\n",
              "      <td>0.422121</td>\n",
              "      <td>0.321306</td>\n",
              "      <td>0.229193</td>\n",
              "      <td>0.355213</td>\n",
              "      <td>1.430825</td>\n",
              "      <td>1</td>\n",
              "      <td>1</td>\n",
              "      <td>1</td>\n",
              "      <td>t-SC-s</td>\n",
              "    </tr>\n",
              "    <tr>\n",
              "      <th>1078</th>\n",
              "      <td>J3295_14</td>\n",
              "      <td>0.221242</td>\n",
              "      <td>0.412894</td>\n",
              "      <td>0.243974</td>\n",
              "      <td>1.876347</td>\n",
              "      <td>2.384088</td>\n",
              "      <td>0.208897</td>\n",
              "      <td>0.173623</td>\n",
              "      <td>2.086028</td>\n",
              "      <td>0.192044</td>\n",
              "      <td>0.922595</td>\n",
              "      <td>0.230649</td>\n",
              "      <td>0.263179</td>\n",
              "      <td>0.224378</td>\n",
              "      <td>0.277484</td>\n",
              "      <td>0.665099</td>\n",
              "      <td>0.479522</td>\n",
              "      <td>1.077014</td>\n",
              "      <td>1.115030</td>\n",
              "      <td>0.434646</td>\n",
              "      <td>0.564766</td>\n",
              "      <td>0.256712</td>\n",
              "      <td>0.313149</td>\n",
              "      <td>0.172252</td>\n",
              "      <td>0.781893</td>\n",
              "      <td>1.558887</td>\n",
              "      <td>0.872820</td>\n",
              "      <td>0.238095</td>\n",
              "      <td>0.270429</td>\n",
              "      <td>0.585146</td>\n",
              "      <td>0.163433</td>\n",
              "      <td>0.341172</td>\n",
              "      <td>1.571820</td>\n",
              "      <td>0.698413</td>\n",
              "      <td>0.356457</td>\n",
              "      <td>0.308446</td>\n",
              "      <td>0.545757</td>\n",
              "      <td>0.480502</td>\n",
              "      <td>0.258083</td>\n",
              "      <td>0.426612</td>\n",
              "      <td>...</td>\n",
              "      <td>0.301587</td>\n",
              "      <td>0.490496</td>\n",
              "      <td>0.197567</td>\n",
              "      <td>0.784819</td>\n",
              "      <td>0.175413</td>\n",
              "      <td>2.659706</td>\n",
              "      <td>0.341021</td>\n",
              "      <td>0.642637</td>\n",
              "      <td>0.783185</td>\n",
              "      <td>0.538224</td>\n",
              "      <td>0.212094</td>\n",
              "      <td>0.161431</td>\n",
              "      <td>0.125295</td>\n",
              "      <td>0.172508</td>\n",
              "      <td>0.193753</td>\n",
              "      <td>0.414200</td>\n",
              "      <td>0.149265</td>\n",
              "      <td>0.204467</td>\n",
              "      <td>0.124569</td>\n",
              "      <td>0.621754</td>\n",
              "      <td>0.352279</td>\n",
              "      <td>1.498820</td>\n",
              "      <td>2.609769</td>\n",
              "      <td>0.185037</td>\n",
              "      <td>1.301071</td>\n",
              "      <td>0.989286</td>\n",
              "      <td>0.306701</td>\n",
              "      <td>0.222263</td>\n",
              "      <td>0.134762</td>\n",
              "      <td>0.125295</td>\n",
              "      <td>0.196296</td>\n",
              "      <td>0.397676</td>\n",
              "      <td>0.335936</td>\n",
              "      <td>0.251317</td>\n",
              "      <td>0.365353</td>\n",
              "      <td>1.404031</td>\n",
              "      <td>1</td>\n",
              "      <td>1</td>\n",
              "      <td>1</td>\n",
              "      <td>t-SC-s</td>\n",
              "    </tr>\n",
              "    <tr>\n",
              "      <th>1079</th>\n",
              "      <td>J3295_15</td>\n",
              "      <td>0.302626</td>\n",
              "      <td>0.461059</td>\n",
              "      <td>0.256564</td>\n",
              "      <td>2.092790</td>\n",
              "      <td>2.594348</td>\n",
              "      <td>0.251001</td>\n",
              "      <td>0.191811</td>\n",
              "      <td>2.361816</td>\n",
              "      <td>0.223632</td>\n",
              "      <td>1.064085</td>\n",
              "      <td>0.276146</td>\n",
              "      <td>0.293725</td>\n",
              "      <td>0.275478</td>\n",
              "      <td>0.315754</td>\n",
              "      <td>0.713173</td>\n",
              "      <td>0.502225</td>\n",
              "      <td>1.231865</td>\n",
              "      <td>1.282377</td>\n",
              "      <td>0.429239</td>\n",
              "      <td>0.629506</td>\n",
              "      <td>0.311972</td>\n",
              "      <td>0.349800</td>\n",
              "      <td>0.187583</td>\n",
              "      <td>0.884735</td>\n",
              "      <td>1.785937</td>\n",
              "      <td>0.970182</td>\n",
              "      <td>0.287049</td>\n",
              "      <td>0.281709</td>\n",
              "      <td>0.666667</td>\n",
              "      <td>0.190031</td>\n",
              "      <td>0.402982</td>\n",
              "      <td>1.742768</td>\n",
              "      <td>0.786827</td>\n",
              "      <td>0.399866</td>\n",
              "      <td>0.339119</td>\n",
              "      <td>0.602804</td>\n",
              "      <td>0.533823</td>\n",
              "      <td>0.287717</td>\n",
              "      <td>0.637962</td>\n",
              "      <td>...</td>\n",
              "      <td>0.368269</td>\n",
              "      <td>0.546729</td>\n",
              "      <td>0.188807</td>\n",
              "      <td>0.772752</td>\n",
              "      <td>0.172716</td>\n",
              "      <td>2.654926</td>\n",
              "      <td>0.317003</td>\n",
              "      <td>0.631682</td>\n",
              "      <td>0.736635</td>\n",
              "      <td>0.535312</td>\n",
              "      <td>0.193992</td>\n",
              "      <td>0.172180</td>\n",
              "      <td>0.118899</td>\n",
              "      <td>0.172001</td>\n",
              "      <td>0.191311</td>\n",
              "      <td>0.393170</td>\n",
              "      <td>0.140533</td>\n",
              "      <td>0.204363</td>\n",
              "      <td>0.121402</td>\n",
              "      <td>0.630252</td>\n",
              "      <td>0.356517</td>\n",
              "      <td>1.490077</td>\n",
              "      <td>2.526372</td>\n",
              "      <td>0.184516</td>\n",
              "      <td>1.267120</td>\n",
              "      <td>1.020383</td>\n",
              "      <td>0.292330</td>\n",
              "      <td>0.227606</td>\n",
              "      <td>0.134762</td>\n",
              "      <td>0.118899</td>\n",
              "      <td>0.187556</td>\n",
              "      <td>0.420347</td>\n",
              "      <td>0.335062</td>\n",
              "      <td>0.252995</td>\n",
              "      <td>0.365278</td>\n",
              "      <td>1.370999</td>\n",
              "      <td>1</td>\n",
              "      <td>1</td>\n",
              "      <td>1</td>\n",
              "      <td>t-SC-s</td>\n",
              "    </tr>\n",
              "  </tbody>\n",
              "</table>\n",
              "<p>1080 rows × 82 columns</p>\n",
              "</div>"
            ],
            "text/plain": [
              "       MouseID  DYRK1A_N   ITSN1_N  ...  Treatment  Behavior   class\n",
              "0        309_1  0.503644  0.747193  ...          0         0  c-CS-m\n",
              "1        309_2  0.514617  0.689064  ...          0         0  c-CS-m\n",
              "2        309_3  0.509183  0.730247  ...          0         0  c-CS-m\n",
              "3        309_4  0.442107  0.617076  ...          0         0  c-CS-m\n",
              "4        309_5  0.434940  0.617430  ...          0         0  c-CS-m\n",
              "...        ...       ...       ...  ...        ...       ...     ...\n",
              "1075  J3295_11  0.254860  0.463591  ...          1         1  t-SC-s\n",
              "1076  J3295_12  0.272198  0.474163  ...          1         1  t-SC-s\n",
              "1077  J3295_13  0.228700  0.395179  ...          1         1  t-SC-s\n",
              "1078  J3295_14  0.221242  0.412894  ...          1         1  t-SC-s\n",
              "1079  J3295_15  0.302626  0.461059  ...          1         1  t-SC-s\n",
              "\n",
              "[1080 rows x 82 columns]"
            ]
          },
          "metadata": {
            "tags": []
          },
          "execution_count": 10
        }
      ]
    },
    {
      "cell_type": "markdown",
      "metadata": {
        "id": "XlU-fqeT_-n9"
      },
      "source": [
        "**IDENTIFICATION OF NUMBER OF RECORDS IN EACH CLASS**"
      ]
    },
    {
      "cell_type": "code",
      "metadata": {
        "colab": {
          "base_uri": "https://localhost:8080/",
          "height": 296
        },
        "id": "rLJJpJyy__V4",
        "outputId": "26082bc9-ef59-4b0b-b85f-65e8b73a1534"
      },
      "source": [
        "sns.countplot(x='class',data=mice)"
      ],
      "execution_count": null,
      "outputs": [
        {
          "output_type": "execute_result",
          "data": {
            "text/plain": [
              "<matplotlib.axes._subplots.AxesSubplot at 0x7fe246c98950>"
            ]
          },
          "metadata": {
            "tags": []
          },
          "execution_count": 32
        },
        {
          "output_type": "display_data",
          "data": {
            "image/png": "[encoded data removed]",
            "text/plain": [
              "<Figure size 432x288 with 1 Axes>"
            ]
          },
          "metadata": {
            "tags": [],
            "needs_background": "light"
          }
        }
      ]
    },
    {
      "cell_type": "code",
      "metadata": {
        "colab": {
          "base_uri": "https://localhost:8080/"
        },
        "id": "tcvSsa7NAT4f",
        "outputId": "12aa29fe-b38b-4fe7-9fa1-13f94cd35769"
      },
      "source": [
        "mice['class'].value_counts()"
      ],
      "execution_count": null,
      "outputs": [
        {
          "output_type": "execute_result",
          "data": {
            "text/plain": [
              "c-CS-m    150\n",
              "c-SC-m    150\n",
              "c-SC-s    135\n",
              "t-SC-m    135\n",
              "c-CS-s    135\n",
              "t-SC-s    135\n",
              "t-CS-m    135\n",
              "t-CS-s    105\n",
              "Name: class, dtype: int64"
            ]
          },
          "metadata": {
            "tags": []
          },
          "execution_count": 33
        }
      ]
    },
    {
      "cell_type": "markdown",
      "metadata": {
        "id": "u43txVuOoiAT"
      },
      "source": [
        "Control    570\n",
        "Ts65Dn     510 "
      ]
    },
    {
      "cell_type": "code",
      "metadata": {
        "colab": {
          "base_uri": "https://localhost:8080/",
          "height": 296
        },
        "id": "wX4jtPGIn6pF",
        "outputId": "4788575e-e83b-4afd-fec4-d8648876ca16"
      },
      "source": [
        "sns.countplot(x=\"Genotype\",data=mice)\n"
      ],
      "execution_count": null,
      "outputs": [
        {
          "output_type": "execute_result",
          "data": {
            "text/plain": [
              "<matplotlib.axes._subplots.AxesSubplot at 0x7fe246c12610>"
            ]
          },
          "metadata": {
            "tags": []
          },
          "execution_count": 34
        },
        {
          "output_type": "display_data",
          "data": {
            "image/png": "[encoded data removed]",
            "text/plain": [
              "<Figure size 432x288 with 1 Axes>"
            ]
          },
          "metadata": {
            "tags": [],
            "needs_background": "light"
          }
        }
      ]
    },
    {
      "cell_type": "markdown",
      "metadata": {
        "id": "hnIyNzyto1dH"
      },
      "source": [
        "S/C    555\n",
        "C/S    525"
      ]
    },
    {
      "cell_type": "code",
      "metadata": {
        "colab": {
          "base_uri": "https://localhost:8080/",
          "height": 296
        },
        "id": "QbyuAI5-kYKh",
        "outputId": "037fd59c-4969-4ba8-b6f2-f2a3293eb9fa"
      },
      "source": [
        "sns.countplot(x=\"Behavior\",data=mice)"
      ],
      "execution_count": null,
      "outputs": [
        {
          "output_type": "execute_result",
          "data": {
            "text/plain": [
              "<matplotlib.axes._subplots.AxesSubplot at 0x7fe24715de90>"
            ]
          },
          "metadata": {
            "tags": []
          },
          "execution_count": 35
        },
        {
          "output_type": "display_data",
          "data": {
            "image/png": "[encoded data removed]",
            "text/plain": [
              "<Figure size 432x288 with 1 Axes>"
            ]
          },
          "metadata": {
            "tags": [],
            "needs_background": "light"
          }
        }
      ]
    },
    {
      "cell_type": "markdown",
      "metadata": {
        "id": "xmn4dO3rpThm"
      },
      "source": [
        "Memantine    570\n",
        "\n",
        "Saline       510"
      ]
    },
    {
      "cell_type": "code",
      "metadata": {
        "colab": {
          "base_uri": "https://localhost:8080/",
          "height": 296
        },
        "id": "8rK6WC1YkeKo",
        "outputId": "5e2ce341-b49d-4ea7-909d-f72509c6f722"
      },
      "source": [
        "sns.countplot(x=\"Treatment\",data=mice)\n"
      ],
      "execution_count": null,
      "outputs": [
        {
          "output_type": "execute_result",
          "data": {
            "text/plain": [
              "<matplotlib.axes._subplots.AxesSubplot at 0x7fe246c22c50>"
            ]
          },
          "metadata": {
            "tags": []
          },
          "execution_count": 36
        },
        {
          "output_type": "display_data",
          "data": {
            "image/png": "[encoded data removed]",
            "text/plain": [
              "<Figure size 432x288 with 1 Axes>"
            ]
          },
          "metadata": {
            "tags": [],
            "needs_background": "light"
          }
        }
      ]
    },
    {
      "cell_type": "code",
      "metadata": {
        "colab": {
          "base_uri": "https://localhost:8080/",
          "height": 248
        },
        "id": "fm0gkYhNkg60",
        "outputId": "846a50ac-ef7f-4433-ac71-04eb70b7c6a3"
      },
      "source": [
        "mice['Genotype'].value_counts().plot(kind='pie',autopct='%1.1f%%');\n"
      ],
      "execution_count": null,
      "outputs": [
        {
          "output_type": "display_data",
          "data": {
            "image/png": "[encoded data removed]",
            "text/plain": [
              "<Figure size 432x288 with 1 Axes>"
            ]
          },
          "metadata": {
            "tags": []
          }
        }
      ]
    },
    {
      "cell_type": "code",
      "metadata": {
        "colab": {
          "base_uri": "https://localhost:8080/",
          "height": 248
        },
        "id": "7Ilu6myukmNp",
        "outputId": "a89158e9-ef41-4ef1-f21d-21b850b2ea5b"
      },
      "source": [
        "mice['class'].value_counts().plot(kind='pie',autopct='%1.1f%%');\n"
      ],
      "execution_count": null,
      "outputs": [
        {
          "output_type": "display_data",
          "data": {
            "image/png": "[encoded data removed]",
            "text/plain": [
              "<Figure size 432x288 with 1 Axes>"
            ]
          },
          "metadata": {
            "tags": []
          }
        }
      ]
    },
    {
      "cell_type": "code",
      "metadata": {
        "colab": {
          "base_uri": "https://localhost:8080/",
          "height": 297
        },
        "id": "JkxDmYKhkpv-",
        "outputId": "00c20aec-2ef5-4046-ea4a-1db9d8360f86"
      },
      "source": [
        "ax=nmice[\"DYRK1A_N\"].plot.hist()\n",
        "ax.set_xlabel(\"DYRK1A_N\")\n"
      ],
      "execution_count": null,
      "outputs": [
        {
          "output_type": "execute_result",
          "data": {
            "text/plain": [
              "Text(0.5, 0, 'DYRK1A_N')"
            ]
          },
          "metadata": {
            "tags": []
          },
          "execution_count": 39
        },
        {
          "output_type": "display_data",
          "data": {
            "image/png": "[encoded data removed]",
            "text/plain": [
              "<Figure size 432x288 with 1 Axes>"
            ]
          },
          "metadata": {
            "tags": [],
            "needs_background": "light"
          }
        }
      ]
    },
    {
      "cell_type": "code",
      "metadata": {
        "colab": {
          "base_uri": "https://localhost:8080/",
          "height": 297
        },
        "id": "8EBrJ_WUkso4",
        "outputId": "1f71cb64-c4f5-42c1-be2e-33de9d1e57b5"
      },
      "source": [
        "ax=nmice[\"pPKCG_N\"].plot.hist()\n",
        "ax.set_xlabel(\"pPKCG_N\")"
      ],
      "execution_count": null,
      "outputs": [
        {
          "output_type": "execute_result",
          "data": {
            "text/plain": [
              "Text(0.5, 0, 'pPKCG_N')"
            ]
          },
          "metadata": {
            "tags": []
          },
          "execution_count": 40
        },
        {
          "output_type": "display_data",
          "data": {
            "image/png": "[encoded data removed]",
            "text/plain": [
              "<Figure size 432x288 with 1 Axes>"
            ]
          },
          "metadata": {
            "tags": [],
            "needs_background": "light"
          }
        }
      ]
    },
    {
      "cell_type": "code",
      "metadata": {
        "colab": {
          "base_uri": "https://localhost:8080/",
          "height": 297
        },
        "id": "8C3wmL7ckw-r",
        "outputId": "a570823c-89c3-4a72-a66a-685cb8278e07"
      },
      "source": [
        "ax=nmice[\"SOD1_N\"].plot.hist()\n",
        "ax.set_xlabel(\"SOD1_N\")"
      ],
      "execution_count": null,
      "outputs": [
        {
          "output_type": "execute_result",
          "data": {
            "text/plain": [
              "Text(0.5, 0, 'SOD1_N')"
            ]
          },
          "metadata": {
            "tags": []
          },
          "execution_count": 41
        },
        {
          "output_type": "display_data",
          "data": {
            "image/png": "[encoded data removed]",
            "text/plain": [
              "<Figure size 432x288 with 1 Axes>"
            ]
          },
          "metadata": {
            "tags": [],
            "needs_background": "light"
          }
        }
      ]
    },
    {
      "cell_type": "code",
      "metadata": {
        "colab": {
          "base_uri": "https://localhost:8080/",
          "height": 297
        },
        "id": "La2JXBm0qp6q",
        "outputId": "dc9d9144-a2a4-42b2-f897-2622ed6f337e"
      },
      "source": [
        "ax=nmice[\"CaNA_N\"].plot.hist()\n",
        "ax.set_xlabel(\"SOD1_N\")"
      ],
      "execution_count": null,
      "outputs": [
        {
          "output_type": "execute_result",
          "data": {
            "text/plain": [
              "Text(0.5, 0, 'SOD1_N')"
            ]
          },
          "metadata": {
            "tags": []
          },
          "execution_count": 42
        },
        {
          "output_type": "display_data",
          "data": {
            "image/png": "[encoded data removed]",
            "text/plain": [
              "<Figure size 432x288 with 1 Axes>"
            ]
          },
          "metadata": {
            "tags": [],
            "needs_background": "light"
          }
        }
      ]
    },
    {
      "cell_type": "code",
      "metadata": {
        "colab": {
          "base_uri": "https://localhost:8080/",
          "height": 297
        },
        "id": "h2nqyEEcrEqr",
        "outputId": "b076a1ad-2ca9-4749-b137-4a4e73156ed5"
      },
      "source": [
        "ax=nmice[\"Ubiquitin_N\"].plot.hist()\n",
        "ax.set_xlabel(\"Ubiquitin_N\")"
      ],
      "execution_count": null,
      "outputs": [
        {
          "output_type": "execute_result",
          "data": {
            "text/plain": [
              "Text(0.5, 0, 'Ubiquitin_N')"
            ]
          },
          "metadata": {
            "tags": []
          },
          "execution_count": 43
        },
        {
          "output_type": "display_data",
          "data": {
            "image/png": "[encoded data removed]",
            "text/plain": [
              "<Figure size 432x288 with 1 Axes>"
            ]
          },
          "metadata": {
            "tags": [],
            "needs_background": "light"
          }
        }
      ]
    },
    {
      "cell_type": "code",
      "metadata": {
        "colab": {
          "base_uri": "https://localhost:8080/",
          "height": 485
        },
        "id": "de-hrvo1Kko3",
        "outputId": "0ba7db77-1730-435a-bbb0-aea7ceed8cf1"
      },
      "source": [
        "sns.set(rc={\"figure.figsize\": (10,7)})\n",
        "ax = sns.distplot(nmice.loc[:,'DYRK1A_N':'pERK_N'])\n",
        "plt.show()"
      ],
      "execution_count": null,
      "outputs": [
        {
          "output_type": "stream",
          "text": [
            "/usr/local/lib/python3.7/dist-packages/seaborn/distributions.py:2557: FutureWarning: `distplot` is a deprecated function and will be removed in a future version. Please adapt your code to use either `displot` (a figure-level function with similar flexibility) or `histplot` (an axes-level function for histograms).\n",
            "  warnings.warn(msg, FutureWarning)\n"
          ],
          "name": "stderr"
        },
        {
          "output_type": "display_data",
          "data": {
            "image/png": "[encoded data removed]",
            "text/plain": [
              "<Figure size 720x504 with 1 Axes>"
            ]
          },
          "metadata": {
            "tags": []
          }
        }
      ]
    },
    {
      "cell_type": "code",
      "metadata": {
        "colab": {
          "base_uri": "https://localhost:8080/",
          "height": 485
        },
        "id": "EaYpzRsOKndK",
        "outputId": "ecdca04a-5769-4c51-a185-c8104e9e174a"
      },
      "source": [
        "ax = sns.distplot(nmice.loc[:,'pJNK_N':'BRAF_N'])\n",
        "plt.show()"
      ],
      "execution_count": null,
      "outputs": [
        {
          "output_type": "stream",
          "text": [
            "/usr/local/lib/python3.7/dist-packages/seaborn/distributions.py:2557: FutureWarning: `distplot` is a deprecated function and will be removed in a future version. Please adapt your code to use either `displot` (a figure-level function with similar flexibility) or `histplot` (an axes-level function for histograms).\n",
            "  warnings.warn(msg, FutureWarning)\n"
          ],
          "name": "stderr"
        },
        {
          "output_type": "display_data",
          "data": {
            "image/png": "[encoded data removed]",
            "text/plain": [
              "<Figure size 720x504 with 1 Axes>"
            ]
          },
          "metadata": {
            "tags": []
          }
        }
      ]
    },
    {
      "cell_type": "markdown",
      "metadata": {
        "id": "ZSAvC9y8AYBp"
      },
      "source": [
        "**DIVIDING THE DATASET FOR TRAINING AND TESTING**"
      ]
    },
    {
      "cell_type": "code",
      "metadata": {
        "id": "Ac6dnRuXAjhL"
      },
      "source": [
        "X = nmice.drop(['class','Genotype','Treatment','Behavior','MouseID'],axis=1)\n",
        "y = nmice['class']"
      ],
      "execution_count": null,
      "outputs": []
    },
    {
      "cell_type": "code",
      "metadata": {
        "colab": {
          "base_uri": "https://localhost:8080/",
          "height": 485
        },
        "id": "7CCIyRmIK7pq",
        "outputId": "eb485e8e-eec4-4edc-a10d-72c705b3155d"
      },
      "source": [
        "ax = sns.distplot(X)\n",
        "plt.show()"
      ],
      "execution_count": null,
      "outputs": [
        {
          "output_type": "stream",
          "text": [
            "/usr/local/lib/python3.7/dist-packages/seaborn/distributions.py:2557: FutureWarning: `distplot` is a deprecated function and will be removed in a future version. Please adapt your code to use either `displot` (a figure-level function with similar flexibility) or `histplot` (an axes-level function for histograms).\n",
            "  warnings.warn(msg, FutureWarning)\n"
          ],
          "name": "stderr"
        },
        {
          "output_type": "display_data",
          "data": {
            "image/png": "[encoded data removed]",
            "text/plain": [
              "<Figure size 720x504 with 1 Axes>"
            ]
          },
          "metadata": {
            "tags": []
          }
        }
      ]
    },
    {
      "cell_type": "markdown",
      "metadata": {
        "id": "FZYuOx9ctHNh"
      },
      "source": [
        "**THE PROTEIN VALUES IN THE DATASET ARE NORMALLY DISTRIBUTED**"
      ]
    },
    {
      "cell_type": "markdown",
      "metadata": {
        "id": "6pKC21mhUTdm"
      },
      "source": [
        "**IDENTIFICATION OF THE MOST CONTRIBUTING PROTEINS TO THE OUTCOME**"
      ]
    },
    {
      "cell_type": "code",
      "metadata": {
        "colab": {
          "base_uri": "https://localhost:8080/"
        },
        "id": "CYIKLB6JUSFl",
        "outputId": "21eab502-651c-4ccc-879c-f55ddfd41917"
      },
      "source": [
        "from sklearn.feature_selection import SelectKBest\n",
        "from sklearn.feature_selection import f_classif\n",
        "# instantiate SelectKBest to determine 20 best features\n",
        "best_features = SelectKBest(score_func=f_classif, k=20)\n",
        "fit = best_features.fit(X,y)\n",
        "df_scores = pd.DataFrame(fit.scores_)\n",
        "df_columns = pd.DataFrame(X.columns)\n",
        "# concatenate dataframes\n",
        "feature_scores = pd.concat([df_columns, df_scores],axis=1)\n",
        "feature_scores.columns = ['Feature_Name','Score']  # name output columns\n",
        "print(feature_scores.nlargest(20,'Score'))"
      ],
      "execution_count": null,
      "outputs": [
        {
          "output_type": "stream",
          "text": [
            "   Feature_Name       Score\n",
            "32       SOD1_N  292.756964\n",
            "76       CaNA_N  240.971768\n",
            "65  Ubiquitin_N  161.163800\n",
            "53        ARC_N  138.893732\n",
            "70        pS6_N  138.893732\n",
            "34        P38_N  134.793298\n",
            "48         S6_N   98.047339\n",
            "17     pPKCAB_N   96.209139\n",
            "45     pGSK3B_N   86.619666\n",
            "10       pERK_N   85.536800\n",
            "35      pMTOR_N   85.346501\n",
            "64       SNCA_N   76.785852\n",
            "7     pCAMKII_N   74.735241\n",
            "30        APP_N   74.514174\n",
            "60       IL1B_N   71.075500\n",
            "15      pNR2A_N   68.604215\n",
            "39      pNUMB_N   66.942333\n",
            "0      DYRK1A_N   62.154393\n",
            "1       ITSN1_N   61.768682\n",
            "33       MTOR_N   57.625014\n"
          ],
          "name": "stdout"
        }
      ]
    },
    {
      "cell_type": "markdown",
      "metadata": {
        "id": "T0lHurFpVhBq"
      },
      "source": [
        "THE PROTEINS CRITICAL TO LEARNING ABILITY ARE AS FOLLOWS\n",
        "\n",
        "\n",
        "  SOD1_N\n",
        "\n",
        "  CaNA_N \n",
        "\n",
        "  Ubiquitin_N  \n",
        "        ARC_N  \n",
        "        pS6_N  \n",
        "        P38_N  \n",
        "         S6_N   \n",
        "     pPKCAB_N   \n",
        "     pGSK3B_N   \n",
        "       pERK_N   \n",
        "      pMTOR_N   \n",
        "       SNCA_N   \n",
        "    pCAMKII_N   \n",
        "        APP_N   \n",
        "       IL1B_N   \n",
        "      pNR2A_N   \n",
        "      pNUMB_N   \n",
        "     DYRK1A_N   \n",
        "      ITSN1_N   \n",
        "       MTOR_N\n",
        "\n"
      ]
    },
    {
      "cell_type": "markdown",
      "metadata": {
        "id": "SeHbXC31E4d7"
      },
      "source": [
        "**TRAIN-TEST SPLITTING**"
      ]
    },
    {
      "cell_type": "code",
      "metadata": {
        "id": "oYTg_3GOE5NF"
      },
      "source": [
        "X_train, X_test, y_train, y_test = train_test_split(X, y, test_size = 0.35)"
      ],
      "execution_count": null,
      "outputs": []
    },
    {
      "cell_type": "markdown",
      "metadata": {
        "id": "mcSYhwfQBgYG"
      },
      "source": [
        "**DATA STANDARDIZATION**"
      ]
    },
    {
      "cell_type": "markdown",
      "metadata": {
        "id": "wMqGtWNxA4xK"
      },
      "source": [
        "**STANDARDIZING THE NUMERICAL ATTRIBUTES**"
      ]
    },
    {
      "cell_type": "code",
      "metadata": {
        "id": "H0ZdWh5IA5jJ"
      },
      "source": [
        "sc = StandardScaler()\n",
        "X_train = sc.fit_transform(X_train)\n",
        "X_test = sc.transform(X_test)"
      ],
      "execution_count": null,
      "outputs": []
    },
    {
      "cell_type": "markdown",
      "metadata": {
        "id": "rmxOMg7OD_xA"
      },
      "source": [
        "**MODEL BUILDING**"
      ]
    },
    {
      "cell_type": "markdown",
      "metadata": {
        "id": "XKKHaqAsEW-5"
      },
      "source": [
        "**K-NEAREST NEIGHBOR -- BEFORE HYPERPARAMETER TUNING**"
      ]
    },
    {
      "cell_type": "code",
      "metadata": {
        "colab": {
          "base_uri": "https://localhost:8080/"
        },
        "id": "5wuTjQTQ0JoM",
        "outputId": "1e911916-f119-4a30-9546-162c51f89fad"
      },
      "source": [
        "from sklearn.metrics import accuracy_score, f1_score, confusion_matrix\n",
        "model_b= KNeighborsClassifier(n_neighbors = 6, metric = 'minkowski', p = 2)\n",
        "model_b.fit(X_train, y_train)"
      ],
      "execution_count": null,
      "outputs": [
        {
          "output_type": "execute_result",
          "data": {
            "text/plain": [
              "KNeighborsClassifier(algorithm='auto', leaf_size=30, metric='minkowski',\n",
              "                     metric_params=None, n_jobs=None, n_neighbors=6, p=2,\n",
              "                     weights='uniform')"
            ]
          },
          "metadata": {
            "tags": []
          },
          "execution_count": 13
        }
      ]
    },
    {
      "cell_type": "markdown",
      "metadata": {
        "id": "bfm-TH4jufyF"
      },
      "source": [
        "**MODEL EVALUATION**"
      ]
    },
    {
      "cell_type": "code",
      "metadata": {
        "id": "8BXR8H7-c5fz"
      },
      "source": [
        "def multiclass_roc_auc_score(y_test, y_pred2, average=\"macro\"):\n",
        "  lb = preprocessing.LabelBinarizer()\n",
        "  lb.fit(y_test)\n",
        "  lb.fit(y_pred2)\n",
        "  y_test = lb.transform(y_test)\n",
        "  y_pred2 = lb.transform(y_pred2)\n",
        "  return roc_auc_score(y_test, y_pred2, average=average)"
      ],
      "execution_count": null,
      "outputs": []
    },
    {
      "cell_type": "code",
      "metadata": {
        "colab": {
          "base_uri": "https://localhost:8080/"
        },
        "id": "shIuBYjNua7N",
        "outputId": "99a1b589-f22e-4919-e4a0-7db67b353ccb"
      },
      "source": [
        "y_pred = model_b.predict(X_test)\n",
        "kfold = model_selection.KFold(n_splits=10, random_state = 0)\n",
        "result = model_selection.cross_val_score(model_b, X_train, y_train, cv=kfold)\n",
        "print('Accuracy of k-NN Model = ',result.mean())\n",
        "f1_knn = f1_score(y_test, y_pred,average='macro')\n",
        "print('f1 score:',f1_knn)\n",
        "print('confusion matrix for 8  classes:\\n',confusion_matrix(y_test,y_pred))"
      ],
      "execution_count": null,
      "outputs": [
        {
          "output_type": "stream",
          "text": [
            "Accuracy of k-NN Model =  0.8690945674044267\n",
            "f1 score: 0.874367010868508\n",
            "confusion matrix for 8  classes:\n",
            " [[41  0  0  0  3  3  0  3]\n",
            " [ 9 34  1  0  0  1  0  0]\n",
            " [ 0  0 61  0  0  0  1  0]\n",
            " [ 0  0  0 46  0  0  1  0]\n",
            " [ 2  0  0  0 39  0  0  0]\n",
            " [ 2  2  0  0  4 28  0  0]\n",
            " [ 0  0  4  5  0  0 43  0]\n",
            " [ 1  0  2  1  0  0  1 40]]\n"
          ],
          "name": "stdout"
        },
        {
          "output_type": "stream",
          "text": [
            "/usr/local/lib/python3.7/dist-packages/sklearn/model_selection/_split.py:296: FutureWarning: Setting a random_state has no effect since shuffle is False. This will raise an error in 0.24. You should leave random_state to its default (None), or set shuffle=True.\n",
            "  FutureWarning\n"
          ],
          "name": "stderr"
        }
      ]
    },
    {
      "cell_type": "code",
      "metadata": {
        "colab": {
          "base_uri": "https://localhost:8080/"
        },
        "id": "Jf6TrVEAdDWj",
        "outputId": "7fbff518-38f2-4dd4-defa-21eb1a561449"
      },
      "source": [
        "print(\"roc score:\")\n",
        "multiclass_roc_auc_score(y_test, y_pred)"
      ],
      "execution_count": null,
      "outputs": [
        {
          "output_type": "stream",
          "text": [
            "roc score:\n"
          ],
          "name": "stdout"
        },
        {
          "output_type": "execute_result",
          "data": {
            "text/plain": [
              "0.9277070362980061"
            ]
          },
          "metadata": {
            "tags": []
          },
          "execution_count": 17
        }
      ]
    },
    {
      "cell_type": "markdown",
      "metadata": {
        "id": "g_7qG-QwEiUX"
      },
      "source": [
        "**HYPER PARAMETER TUNING USING GRIDSEARCH CV**"
      ]
    },
    {
      "cell_type": "code",
      "metadata": {
        "colab": {
          "base_uri": "https://localhost:8080/"
        },
        "id": "XHhK55ApEAcG",
        "outputId": "f2612b4d-6138-44fa-8f05-25430bdb07f6"
      },
      "source": [
        "#making the instance\n",
        "model = KNeighborsClassifier()\n",
        "#Hyper Parameters Set\n",
        "params = {'n_neighbors':[5,6,7,8,9,10],\n",
        "          'leaf_size':[1,2,3,5,6,7,8,9,10],\n",
        "          'weights':['uniform', 'distance'],\n",
        "          'algorithm':['auto', 'ball_tree','kd_tree','brute'],\n",
        "          'n_jobs':[-1,1,2]}\n",
        "#Making model with hyper parameters sets\n",
        "model1 = GridSearchCV(model, param_grid=params, n_jobs=1)\n",
        "#Learning\n",
        "model1.fit(X_train,y_train)\n",
        "#The best hyper parameters set\n",
        "print(\"Best Hyper Parameters:\\n\",model1.best_params_)"
      ],
      "execution_count": null,
      "outputs": [
        {
          "output_type": "stream",
          "text": [
            "Best Hyper Parameters:\n",
            " {'algorithm': 'auto', 'leaf_size': 1, 'n_jobs': -1, 'n_neighbors': 6, 'weights': 'distance'}\n"
          ],
          "name": "stdout"
        }
      ]
    },
    {
      "cell_type": "markdown",
      "metadata": {
        "id": "95thcDYYJY-w"
      },
      "source": [
        "**KNN MODEL WITH BEST HYPER PARAMETERS**"
      ]
    },
    {
      "cell_type": "code",
      "metadata": {
        "colab": {
          "base_uri": "https://localhost:8080/"
        },
        "id": "2TpF62o9JXBv",
        "outputId": "c5c1fe31-5714-4660-a124-5bf2a6ba80a4"
      },
      "source": [
        "model_a= KNeighborsClassifier(n_neighbors = 6, metric = 'minkowski',leaf_size=1,n_jobs=-1,weights='distance')\n",
        "model_a.fit(X_train, y_train)"
      ],
      "execution_count": null,
      "outputs": [
        {
          "output_type": "execute_result",
          "data": {
            "text/plain": [
              "KNeighborsClassifier(algorithm='auto', leaf_size=1, metric='minkowski',\n",
              "                     metric_params=None, n_jobs=-1, n_neighbors=6, p=2,\n",
              "                     weights='distance')"
            ]
          },
          "metadata": {
            "tags": []
          },
          "execution_count": 18
        }
      ]
    },
    {
      "cell_type": "markdown",
      "metadata": {
        "id": "T5LVH1iZKsbA"
      },
      "source": [
        "**PREDICTION AND EVALUATION USING K FOLD CROSS VALIDATION**"
      ]
    },
    {
      "cell_type": "code",
      "metadata": {
        "colab": {
          "base_uri": "https://localhost:8080/"
        },
        "id": "y9W3dcYpJ2FA",
        "outputId": "a393c8bf-3c82-4b02-d87c-afe39ce2e228"
      },
      "source": [
        "y_pred1 = model_a.predict(X_test)\n",
        "kfold = model_selection.KFold(n_splits=10)\n",
        "result = model_selection.cross_val_score(model_a, X_train, y_train, cv=kfold)\n",
        "y_pred1"
      ],
      "execution_count": null,
      "outputs": [
        {
          "output_type": "execute_result",
          "data": {
            "text/plain": [
              "array(['c-CS-s', 't-CS-s', 'c-SC-s', 'c-SC-m', 'c-CS-s', 'c-CS-s',\n",
              "       't-SC-m', 't-CS-s', 'c-CS-s', 'c-SC-s', 'c-SC-m', 't-SC-m',\n",
              "       'c-CS-m', 'c-CS-m', 'c-CS-s', 'c-CS-s', 'c-CS-s', 't-SC-m',\n",
              "       'c-SC-m', 'c-CS-s', 'c-CS-m', 'c-CS-s', 'c-SC-m', 't-SC-m',\n",
              "       't-CS-s', 'c-CS-s', 'c-CS-s', 't-SC-m', 't-CS-s', 't-SC-s',\n",
              "       't-SC-s', 't-CS-m', 't-CS-s', 't-SC-m', 't-CS-m', 't-SC-s',\n",
              "       't-SC-s', 't-SC-s', 'c-CS-s', 'c-CS-m', 't-CS-m', 't-SC-s',\n",
              "       't-SC-m', 'c-CS-s', 't-SC-s', 'c-SC-m', 't-SC-m', 't-SC-m',\n",
              "       't-CS-m', 't-SC-s', 't-CS-s', 'c-SC-m', 'c-CS-s', 't-CS-m',\n",
              "       'c-CS-s', 'c-SC-m', 'c-SC-s', 't-CS-m', 't-SC-s', 't-SC-m',\n",
              "       't-SC-s', 'c-CS-m', 'c-SC-s', 'c-SC-s', 't-SC-m', 'c-CS-m',\n",
              "       't-CS-m', 't-SC-m', 't-CS-m', 'c-CS-m', 'c-CS-m', 'c-SC-s',\n",
              "       'c-SC-m', 'c-SC-m', 't-SC-m', 'c-SC-s', 't-CS-s', 'c-SC-s',\n",
              "       't-SC-m', 't-CS-s', 't-CS-m', 't-SC-m', 't-SC-s', 't-SC-m',\n",
              "       'c-SC-m', 'c-CS-s', 't-SC-s', 'c-SC-m', 't-CS-m', 'c-SC-s',\n",
              "       't-SC-s', 'c-SC-m', 'c-SC-s', 'c-CS-m', 'c-SC-s', 't-CS-s',\n",
              "       't-SC-s', 'c-SC-s', 'c-CS-s', 't-SC-s', 't-SC-m', 'c-SC-s',\n",
              "       'c-CS-m', 'c-SC-m', 't-CS-s', 'c-SC-m', 'c-SC-m', 'c-CS-m',\n",
              "       't-CS-m', 'c-CS-s', 'c-CS-m', 't-SC-s', 't-CS-m', 'c-CS-m',\n",
              "       't-SC-s', 'c-CS-m', 'c-SC-s', 'c-SC-s', 'c-CS-s', 't-SC-m',\n",
              "       't-CS-s', 'c-CS-s', 't-CS-m', 'c-CS-m', 'c-SC-s', 'c-CS-m',\n",
              "       't-SC-m', 'c-CS-m', 't-CS-m', 't-CS-m', 't-SC-s', 'c-CS-m',\n",
              "       't-SC-m', 'c-SC-m', 'c-SC-m', 't-CS-s', 't-CS-m', 't-SC-s',\n",
              "       't-CS-m', 'c-SC-m', 't-SC-s', 'c-SC-m', 't-SC-m', 'c-CS-m',\n",
              "       't-CS-s', 'c-CS-s', 'c-SC-s', 't-CS-s', 'c-CS-m', 't-SC-s',\n",
              "       'c-SC-m', 'c-SC-m', 'c-CS-s', 't-SC-s', 't-SC-s', 't-CS-m',\n",
              "       'c-SC-m', 't-SC-m', 'c-SC-m', 't-CS-m', 'c-SC-m', 'c-CS-m',\n",
              "       'c-SC-m', 'c-CS-s', 'c-SC-s', 'c-CS-s', 't-SC-s', 't-SC-s',\n",
              "       'c-SC-s', 'c-SC-m', 't-CS-m', 'c-SC-m', 'c-SC-s', 't-SC-m',\n",
              "       'c-SC-s', 'c-CS-s', 'c-CS-m', 't-SC-m', 't-SC-s', 'c-CS-s',\n",
              "       't-SC-s', 'c-CS-m', 't-SC-s', 't-SC-s', 'c-CS-s', 't-CS-s',\n",
              "       'c-SC-m', 't-CS-m', 'c-SC-m', 'c-SC-m', 'c-SC-s', 'c-SC-s',\n",
              "       't-SC-m', 't-SC-m', 't-SC-m', 't-CS-m', 'c-SC-s', 'c-SC-m',\n",
              "       'c-CS-s', 'c-SC-m', 'c-SC-s', 'c-SC-m', 't-SC-s', 'c-SC-s',\n",
              "       't-SC-m', 'c-CS-s', 'c-CS-s', 't-CS-s', 'c-SC-s', 't-CS-s',\n",
              "       'c-CS-s', 't-SC-m', 't-CS-m', 't-CS-s', 'c-CS-m', 't-CS-s',\n",
              "       't-SC-m', 'c-CS-m', 't-SC-m', 't-SC-s', 'c-SC-m', 't-CS-s',\n",
              "       'c-SC-m', 'c-SC-m', 't-SC-m', 't-SC-m', 't-CS-m', 't-CS-m',\n",
              "       'c-SC-s', 'c-SC-s', 't-CS-s', 'c-CS-m', 't-CS-m', 't-SC-m',\n",
              "       'c-CS-m', 'c-SC-s', 't-CS-s', 't-CS-m', 'c-SC-m', 't-CS-s',\n",
              "       'c-SC-s', 't-CS-s', 'c-CS-m', 't-SC-s', 't-SC-s', 'c-SC-m',\n",
              "       't-CS-s', 'c-SC-s', 't-CS-m', 'c-CS-m', 't-SC-m', 't-SC-s',\n",
              "       't-SC-m', 't-SC-s', 'c-CS-m', 't-CS-s', 'c-SC-m', 'c-CS-m',\n",
              "       't-CS-m', 't-CS-m', 'c-CS-s', 'c-CS-m', 'c-CS-m', 't-SC-s',\n",
              "       't-CS-m', 't-CS-m', 't-SC-m', 't-SC-m', 't-SC-m', 't-CS-m',\n",
              "       'c-SC-s', 'c-SC-m', 'c-CS-m', 't-CS-s', 'c-CS-s', 't-CS-m',\n",
              "       'c-SC-s', 't-SC-s', 't-SC-m', 't-CS-m', 'c-SC-m', 't-CS-m',\n",
              "       'c-SC-m', 'c-CS-s', 'c-CS-m', 't-CS-m', 't-CS-s', 'c-CS-s',\n",
              "       'c-SC-s', 'c-SC-m', 't-CS-m', 't-SC-m', 'c-SC-m', 'c-SC-s',\n",
              "       't-SC-s', 't-CS-s', 'c-CS-s', 'c-SC-s', 'c-CS-s', 'c-SC-s',\n",
              "       't-SC-s', 't-CS-s', 't-SC-m', 't-SC-m', 'c-SC-s', 'c-CS-m',\n",
              "       't-SC-s', 'c-SC-s', 'c-SC-m', 't-SC-m', 'c-SC-s', 'c-SC-s',\n",
              "       'c-SC-s', 't-CS-s', 'c-CS-m', 'c-SC-m', 'c-CS-s', 'c-SC-m',\n",
              "       'c-CS-s', 'c-CS-m', 't-SC-s', 'c-CS-m', 'c-CS-m', 'c-SC-m',\n",
              "       'c-CS-s', 't-CS-m', 'c-CS-m', 'c-CS-s', 'c-CS-m', 'c-CS-s',\n",
              "       'c-SC-m', 't-SC-m', 'c-CS-m', 'c-SC-s', 't-SC-s', 't-SC-m',\n",
              "       'c-SC-m', 't-CS-s', 'c-SC-m', 't-CS-m', 't-SC-m', 'c-SC-s',\n",
              "       'c-CS-s', 'c-CS-m', 'c-SC-m', 't-SC-s', 'c-SC-m', 't-CS-s',\n",
              "       'c-CS-m', 'c-CS-m', 't-CS-m', 'c-SC-s', 't-SC-m', 't-CS-s',\n",
              "       'c-CS-m', 'c-CS-m', 'c-SC-m', 'c-SC-m', 't-SC-m', 't-SC-m',\n",
              "       'c-CS-m', 't-SC-m', 'c-SC-m', 'c-SC-m', 't-CS-m', 't-SC-m',\n",
              "       't-CS-s', 't-SC-s', 't-SC-s', 'c-CS-s', 't-SC-s', 'c-SC-m',\n",
              "       'c-SC-m', 't-CS-s', 't-SC-m', 'c-CS-s', 't-SC-s', 'c-SC-s'],\n",
              "      dtype=object)"
            ]
          },
          "metadata": {
            "tags": []
          },
          "execution_count": 19
        }
      ]
    },
    {
      "cell_type": "code",
      "metadata": {
        "colab": {
          "base_uri": "https://localhost:8080/"
        },
        "id": "f0oYawmcLC2e",
        "outputId": "0f3831f5-f39f-443b-dd7c-54caa4082c3e"
      },
      "source": [
        "print('Accuracy of k-NN Model = ',result.mean())\n",
        "f1_knn = f1_score(y_test, y_pred1,average='macro')\n",
        "print('f1 score:',f1_knn)\n",
        "print('confusion matrix for 8  classes:\\n',confusion_matrix(y_test,y_pred1))\n"
      ],
      "execution_count": null,
      "outputs": [
        {
          "output_type": "stream",
          "text": [
            "Accuracy of k-NN Model =  0.9572635814889336\n",
            "f1 score: 0.9851837817434077\n",
            "confusion matrix for 8  classes:\n",
            " [[49  0  0  0  1  0  0  0]\n",
            " [ 0 45  0  0  0  0  0  0]\n",
            " [ 0  0 59  1  0  0  1  1]\n",
            " [ 0  0  0 46  0  0  1  0]\n",
            " [ 0  0  0  0 41  0  0  0]\n",
            " [ 0  0  0  0  0 36  0  0]\n",
            " [ 0  0  0  0  0  0 51  1]\n",
            " [ 0  0  0  0  0  0  0 45]]\n"
          ],
          "name": "stdout"
        }
      ]
    },
    {
      "cell_type": "code",
      "metadata": {
        "colab": {
          "base_uri": "https://localhost:8080/"
        },
        "id": "4D4UNuuwhxZ0",
        "outputId": "45863672-836e-4a13-a908-4626299b6ff9"
      },
      "source": [
        "print(\"roc score:\")\n",
        "multiclass_roc_auc_score(y_test, y_pred1)"
      ],
      "execution_count": null,
      "outputs": [
        {
          "output_type": "stream",
          "text": [
            "roc score:\n"
          ],
          "name": "stdout"
        },
        {
          "output_type": "execute_result",
          "data": {
            "text/plain": [
              "0.9920610034895312"
            ]
          },
          "metadata": {
            "tags": []
          },
          "execution_count": 21
        }
      ]
    },
    {
      "cell_type": "markdown",
      "metadata": {
        "id": "lDi2gyzr3AL1"
      },
      "source": [
        "GIVEN THE PROTEIN EXPRESSION VALUES OF THE SPECIFIED 77 PROTEINS, THE K NEAREST NEIGHBOUR MODEL PREDICTS THE TYPE OF MOUSE WHETHER ITS GENOTYPE IS CONTROL OR TRISOMIC, TREATMENT GIVEN IS MEMANTINE OR SALINE AND BEHAVIOR IS CONTEXT SHOCK OR SHOCK CONTEXT WITH AN ACCURACY OF 96.44%."
      ]
    },
    {
      "cell_type": "markdown",
      "metadata": {
        "id": "I0V5nFsORCrV"
      },
      "source": [
        "**PREDICTING FOR UNSEEN DATA**"
      ]
    },
    {
      "cell_type": "code",
      "metadata": {
        "colab": {
          "base_uri": "https://localhost:8080/"
        },
        "id": "BUttR4OyRIgb",
        "outputId": "56b13fa8-f050-45fc-b9b5-7e8fa0c34363"
      },
      "source": [
        "new_data1=[['0.503644','2.816329','5.990152','0.218830','0.177565','1.750936','0.687906','0.306382','0.402698','1.022060',\n",
        "            '1.877684','0.441599','0.859366','0.416289','1.866358','3.685247','0.165846','3.037621','0.369510','0.458539',\n",
        "            '0.335336','0.576916','0.448099','0.586271','0.394721','0.339571','0.482864','0.114783','0.131790','0.128186', \n",
        "            '1.443091','0.294700','0.354605','1.339070','0.188852','0.106305','0.144989','0.176668','0.125190','0.142756',\n",
        "             '0.430957','1.603310','2.014875','0.108234','0.134762','0.427099','0.114783','0.131790','0.128186','0.9964',\n",
        "            '0.503644','0.747193','0.430175','2.816329','5.990152','0.218830','0.177565','2.373744','0.232224','1.750936','0.687906',\n",
        "            '0.306382','0.402698','0.296927','1.022060','0.605673','1.877684','2.308745','0.441599','0.859366','0.416289','0.369608',\n",
        "            '0.178944','1.866358','3.685247','1.537227','0.264526'\t\n",
        "          ]]\n",
        "a=model_a.predict(new_data1)\n",
        "print(\"the given input data belongs to class:\",a)"
      ],
      "execution_count": null,
      "outputs": [
        {
          "output_type": "stream",
          "text": [
            "the given input data belongs to class: ['t-SC-m']\n"
          ],
          "name": "stdout"
        },
        {
          "output_type": "stream",
          "text": [
            "/usr/local/lib/python3.7/dist-packages/sklearn/neighbors/_classification.py:171: FutureWarning: Beginning in version 0.22, arrays of bytes/strings will be converted to decimal numbers if dtype='numeric'. It is recommended that you convert the array to a float dtype before using it in scikit-learn, for example by using your_array = your_array.astype(np.float64).\n",
            "  X = check_array(X, accept_sparse='csr')\n",
            "/usr/local/lib/python3.7/dist-packages/sklearn/neighbors/_base.py:605: FutureWarning: Beginning in version 0.22, arrays of bytes/strings will be converted to decimal numbers if dtype='numeric'. It is recommended that you convert the array to a float dtype before using it in scikit-learn, for example by using your_array = your_array.astype(np.float64).\n",
            "  X = check_array(X, accept_sparse='csr')\n"
          ],
          "name": "stderr"
        }
      ]
    },
    {
      "cell_type": "code",
      "metadata": {
        "id": "2-oDRyDu27O6"
      },
      "source": [
        "model1=LogisticRegression(C=10, class_weight=None, dual=False,\n",
        "          fit_intercept=True, intercept_scaling=1, max_iter=100,\n",
        "          multi_class='multinomial', n_jobs=None, penalty='l2', random_state=None,\n",
        "          solver='newton-cg', tol=0.0001, verbose=0, warm_start=False)\n",
        "model1.fit(X_train, y_train)\n",
        "y_pred4 = model1.predict(X_test)"
      ],
      "execution_count": null,
      "outputs": []
    },
    {
      "cell_type": "code",
      "metadata": {
        "id": "78aFLvHi4Sdq"
      },
      "source": [
        "from sklearn.ensemble import RandomForestClassifier\n",
        "model2 = RandomForestClassifier(n_estimators = 15, max_depth=None,criterion = 'entropy', random_state = 0)\n",
        "model2.fit(X_train, y_train)\n",
        "y_pred5 = model2.predict(X_test)"
      ],
      "execution_count": null,
      "outputs": []
    },
    {
      "cell_type": "markdown",
      "metadata": {
        "id": "DuKhVZruADtD"
      },
      "source": [
        "**VOTING ENSEMBLE CLASSIFIER**"
      ]
    },
    {
      "cell_type": "code",
      "metadata": {
        "id": "9RlQU2ZK1YZC"
      },
      "source": [
        "models = list()\n",
        "models.append(('knn',model_a))\n",
        "models.append(('lr',model1))\n",
        "models.append(('rf',model2))\n",
        "ensemble = VotingClassifier(estimators=models, voting='hard')"
      ],
      "execution_count": null,
      "outputs": []
    },
    {
      "cell_type": "code",
      "metadata": {
        "colab": {
          "base_uri": "https://localhost:8080/"
        },
        "id": "yTPclYv04p-M",
        "outputId": "bccb8bd2-11b3-4b08-fd5f-0fda1416dba9"
      },
      "source": [
        "ensemble.fit(X_train, y_train)\n",
        "y_pred6 = ensemble.predict(X_test)\n",
        "y_pred6"
      ],
      "execution_count": null,
      "outputs": [
        {
          "output_type": "execute_result",
          "data": {
            "text/plain": [
              "array(['t-CS-m', 't-SC-m', 'c-CS-s', 't-SC-m', 't-SC-s', 't-SC-m',\n",
              "       'c-CS-m', 't-SC-m', 't-CS-m', 't-CS-m', 'c-CS-s', 'c-SC-m',\n",
              "       't-SC-m', 't-SC-m', 'c-SC-s', 'c-SC-s', 'c-SC-s', 't-SC-m',\n",
              "       't-CS-s', 'c-SC-m', 'c-SC-m', 't-SC-s', 't-CS-s', 't-CS-m',\n",
              "       't-SC-s', 't-CS-s', 'c-CS-s', 't-CS-s', 'c-CS-m', 't-CS-m',\n",
              "       'c-CS-m', 't-SC-m', 'c-SC-m', 't-CS-m', 't-SC-s', 'c-CS-m',\n",
              "       't-CS-m', 't-SC-s', 't-CS-m', 'c-SC-s', 't-SC-m', 't-CS-m',\n",
              "       'c-CS-s', 'c-CS-s', 'c-CS-s', 't-SC-s', 'c-SC-m', 't-CS-s',\n",
              "       'c-CS-s', 'c-CS-s', 't-CS-m', 't-CS-m', 't-SC-s', 't-CS-m',\n",
              "       'c-SC-m', 't-CS-s', 't-SC-s', 't-SC-s', 't-CS-m', 'c-CS-s',\n",
              "       'c-SC-m', 'c-CS-s', 't-SC-s', 'c-CS-m', 't-CS-m', 'c-CS-m',\n",
              "       't-CS-s', 't-CS-s', 'c-CS-m', 't-SC-s', 'c-SC-s', 't-CS-m',\n",
              "       'c-CS-s', 't-SC-s', 't-CS-s', 'c-SC-m', 't-SC-m', 'c-CS-m',\n",
              "       'c-SC-s', 'c-SC-m', 't-CS-s', 'c-CS-m', 'c-CS-s', 't-SC-m',\n",
              "       't-CS-m', 't-SC-m', 't-CS-s', 'c-SC-m', 'c-CS-m', 'c-CS-s',\n",
              "       'c-CS-s', 'c-SC-s', 'c-CS-m', 'c-SC-s', 'c-CS-s', 'c-CS-s',\n",
              "       'c-CS-m', 't-SC-s', 'c-CS-s', 'c-SC-s', 't-SC-m', 't-CS-m',\n",
              "       'c-CS-m', 't-CS-m', 't-CS-s', 't-CS-m', 'c-CS-s', 't-SC-s',\n",
              "       't-CS-s', 'c-CS-m', 'c-CS-m', 'c-CS-s', 'c-CS-m', 'c-SC-s',\n",
              "       'c-CS-m', 'c-CS-m', 't-SC-s', 't-SC-m', 't-SC-s', 't-SC-s',\n",
              "       'c-CS-s', 't-SC-s', 'c-CS-s', 'c-SC-m', 'c-SC-s', 't-SC-m',\n",
              "       'c-SC-m', 't-CS-s', 'c-SC-s', 't-CS-s', 'c-CS-s', 't-CS-s',\n",
              "       'c-CS-m', 'c-SC-m', 't-SC-s', 'c-SC-m', 'c-SC-s', 'c-SC-s',\n",
              "       'c-CS-s', 'c-SC-m', 't-CS-s', 'c-CS-m', 't-CS-m', 't-CS-s',\n",
              "       'c-CS-s', 'c-CS-s', 'c-SC-m', 't-CS-s', 't-SC-m', 't-SC-m',\n",
              "       'c-SC-s', 't-CS-s', 'c-CS-m', 't-CS-s', 't-CS-m', 'c-CS-s',\n",
              "       'c-CS-s', 'c-SC-s', 't-CS-m', 't-CS-m', 't-CS-s', 'c-SC-m',\n",
              "       't-SC-m', 't-SC-m', 't-CS-m', 'c-SC-m', 'c-CS-m', 'c-CS-s',\n",
              "       'c-CS-s', 'c-SC-m', 't-SC-m', 'c-SC-s', 't-SC-s', 't-SC-m',\n",
              "       't-SC-s', 't-CS-m', 'c-CS-m', 'c-CS-m', 't-CS-s', 't-CS-s',\n",
              "       'c-SC-s', 'c-CS-m', 'c-CS-m', 'c-CS-m', 'c-CS-s', 't-SC-m',\n",
              "       't-SC-s', 'c-SC-m', 't-CS-m', 't-SC-s', 't-SC-m', 'c-CS-s',\n",
              "       't-CS-m', 'c-SC-s', 't-SC-s', 'c-SC-s', 'c-CS-m', 't-SC-m',\n",
              "       't-CS-m', 't-CS-m', 't-SC-s', 'c-SC-s', 'c-CS-s', 'c-CS-m',\n",
              "       'c-CS-m', 't-CS-s', 'c-CS-s', 't-SC-s', 'c-SC-s', 't-CS-s',\n",
              "       'c-SC-m', 't-SC-m', 't-SC-s', 't-CS-s', 'c-CS-s', 't-CS-m',\n",
              "       'c-SC-s', 't-SC-m', 't-CS-m', 't-CS-s', 'c-CS-s', 'c-SC-s',\n",
              "       'c-SC-s', 't-CS-m', 'c-CS-s', 't-CS-m', 'c-SC-s', 't-SC-s',\n",
              "       't-SC-s', 't-SC-m', 't-SC-m', 't-SC-m', 'c-SC-m', 'c-SC-m',\n",
              "       't-CS-s', 'c-SC-m', 't-SC-m', 'c-SC-s', 't-SC-s', 'c-CS-m',\n",
              "       't-SC-m', 't-SC-s', 'c-SC-s', 'c-SC-m', 'c-SC-s', 't-SC-s',\n",
              "       't-SC-s', 'c-CS-m', 'c-CS-m', 'c-CS-s', 'c-SC-m', 'c-CS-m',\n",
              "       'c-CS-m', 't-CS-m', 't-SC-s', 'c-CS-s', 't-SC-s', 't-SC-m',\n",
              "       't-CS-m', 't-SC-m', 'c-SC-m', 't-SC-s', 'c-CS-m', 'c-SC-m',\n",
              "       'c-CS-m', 'c-SC-m', 'c-SC-s', 'c-SC-s', 't-CS-m', 't-SC-s',\n",
              "       'c-SC-s', 'c-SC-m', 'c-CS-m', 't-SC-m', 't-SC-s', 'c-CS-s',\n",
              "       'c-SC-m', 'c-SC-m', 'c-CS-m', 't-SC-s', 't-CS-m', 'c-SC-m',\n",
              "       'c-CS-m', 'c-SC-s', 't-SC-m', 'c-CS-m', 'c-SC-s', 'c-SC-s',\n",
              "       't-SC-s', 'c-SC-m', 'c-CS-m', 'c-SC-s', 'c-CS-m', 't-SC-m',\n",
              "       'c-SC-s', 't-SC-m', 't-CS-s', 't-CS-s', 'c-SC-s', 'c-SC-s',\n",
              "       'c-SC-s', 't-CS-m', 't-SC-m', 't-CS-m', 't-CS-m', 'c-CS-m',\n",
              "       'c-CS-m', 't-CS-s', 'c-CS-m', 't-CS-s', 'c-SC-m', 'c-SC-m',\n",
              "       't-SC-m', 'c-CS-m', 't-CS-m', 'c-SC-m', 't-SC-m', 't-SC-s',\n",
              "       'c-SC-s', 't-CS-m', 't-SC-m', 't-CS-m', 't-CS-m', 'c-SC-m',\n",
              "       'c-SC-s', 'c-CS-m', 't-SC-m', 't-CS-s', 'c-CS-m', 'c-CS-s',\n",
              "       'c-SC-s', 't-CS-s', 'c-CS-m', 't-CS-m', 'c-CS-m', 't-CS-m',\n",
              "       'c-SC-m', 'c-SC-m', 'c-SC-s', 'c-CS-s', 'c-SC-s', 't-CS-s',\n",
              "       't-SC-s', 'c-CS-m', 't-CS-m', 't-CS-s', 'c-SC-m', 't-CS-m',\n",
              "       't-SC-m', 'c-CS-m', 't-CS-s', 't-CS-m', 'c-CS-s', 't-CS-m',\n",
              "       'c-SC-s', 'c-SC-m', 'c-SC-s', 'c-CS-s', 'c-SC-s', 't-CS-s',\n",
              "       't-CS-m', 't-SC-m', 't-SC-s', 't-SC-m', 't-SC-m', 't-CS-s',\n",
              "       't-SC-s', 'c-CS-m', 'c-CS-s', 't-SC-m', 't-SC-m', 'c-CS-m',\n",
              "       't-CS-m', 't-SC-s', 'c-SC-m', 't-SC-m', 'c-SC-s', 'c-CS-m'],\n",
              "      dtype=object)"
            ]
          },
          "metadata": {
            "tags": []
          },
          "execution_count": 64
        }
      ]
    },
    {
      "cell_type": "code",
      "metadata": {
        "colab": {
          "base_uri": "https://localhost:8080/"
        },
        "id": "DsH7nxl353Yw",
        "outputId": "8e1dad09-c13b-4ac4-b91f-27ec5fb2c138"
      },
      "source": [
        "kfold = model_selection.KFold(n_splits=10)\n",
        "results = model_selection.cross_val_score(ensemble, X_train, y_train, cv=kfold)\n",
        "print('accuracy score of voting classifier:',results.mean())\n",
        "f1_VC = f1_score(y_test, y_pred6,average='macro')\n",
        "print('f1 score:',f1_VC)\n",
        "print('confusion matrix for 8  classes:\\n',confusion_matrix(y_test,y_pred6))"
      ],
      "execution_count": null,
      "outputs": [
        {
          "output_type": "stream",
          "text": [
            "accuracy score of voting classifier: 0.9829376257545273\n",
            "f1 score: 0.9901004997520144\n",
            "confusion matrix for 8  classes:\n",
            " [[55  0  0  0  2  0  0  0]\n",
            " [ 1 44  0  0  0  0  0  0]\n",
            " [ 0  0 43  1  0  0  0  0]\n",
            " [ 0  0  0 48  0  0  0  0]\n",
            " [ 0  0  0  0 50  0  0  0]\n",
            " [ 0  0  0  0  0 40  0  0]\n",
            " [ 0  0  0  0  0  0 49  0]\n",
            " [ 0  0  0  0  0  0  0 45]]\n"
          ],
          "name": "stdout"
        }
      ]
    },
    {
      "cell_type": "code",
      "metadata": {
        "colab": {
          "base_uri": "https://localhost:8080/"
        },
        "id": "W6Sm_9e_KaEo",
        "outputId": "6dd0e431-3698-4879-de45-a5b30a3eab43"
      },
      "source": [
        "print(\"roc score:\")\n",
        "multiclass_roc_auc_score(y_test, y_pred6)"
      ],
      "execution_count": null,
      "outputs": [
        {
          "output_type": "stream",
          "text": [
            "roc score:\n"
          ],
          "name": "stdout"
        },
        {
          "output_type": "execute_result",
          "data": {
            "text/plain": [
              "0.9942324785593024"
            ]
          },
          "metadata": {
            "tags": []
          },
          "execution_count": 66
        }
      ]
    }
  ]
}